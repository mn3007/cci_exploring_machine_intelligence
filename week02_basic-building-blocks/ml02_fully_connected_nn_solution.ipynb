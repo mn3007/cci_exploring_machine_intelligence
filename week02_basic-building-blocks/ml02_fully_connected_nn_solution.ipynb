{
  "nbformat": 4,
  "nbformat_minor": 0,
  "metadata": {
    "colab": {
      "name": "ml02_fully-connected-nn.ipynb",
      "provenance": [],
      "collapsed_sections": [
        "BuQ0fm_aC0MX",
        "PN8_ZjNkz8Sz",
        "cL1TQhiSmCS4"
      ]
    },
    "kernelspec": {
      "name": "python3",
      "display_name": "Python 3"
    }
  },
  "cells": [
    {
      "cell_type": "markdown",
      "metadata": {
        "id": "7m5ILWqUfdJP",
        "colab_type": "text"
      },
      "source": [
        "# Fully Connected Neural Network\n",
        "\n",
        "\"Artificial neural networks (ANN) are computing systems vaguely inspired by the biological neural networks that constitute animal brains.\" [[link](https://en.wikipedia.org/wiki/Artificial_neural_network)]\n",
        "\n",
        "![Fully Connected Neural Network](https://raw.githubusercontent.com/previtus/cci_exploring_machine_intelligence/master/week02_basic-building-blocks/ml02_fully_connected_neural_network_illustration.png)\n",
        "\n"
      ]
    },
    {
      "cell_type": "markdown",
      "metadata": {
        "id": "-q8VeTxBhPCn",
        "colab_type": "text"
      },
      "source": [
        "# Starter code"
      ]
    },
    {
      "cell_type": "markdown",
      "metadata": {
        "id": "FnCp374IhUjW",
        "colab_type": "text"
      },
      "source": [
        "imports:"
      ]
    },
    {
      "cell_type": "code",
      "metadata": {
        "id": "1gRw2ft9hRuc",
        "colab_type": "code",
        "outputId": "59551059-815f-46f3-c3ad-69ee3863200b",
        "colab": {
          "base_uri": "https://localhost:8080/",
          "height": 34
        }
      },
      "source": [
        "# Imports for the libraries we will use ...\n",
        "from __future__ import print_function\n",
        "# Keras for neural network models\n",
        "import keras \n",
        "from keras.datasets import mnist\n",
        "from keras.models import Sequential\n",
        "from keras.layers import Dense\n",
        "# Matplotlib for visualization\n",
        "import matplotlib.pyplot as plt\n",
        "%matplotlib inline\n",
        "import numpy as np"
      ],
      "execution_count": 1,
      "outputs": [
        {
          "output_type": "stream",
          "text": [
            "Using TensorFlow backend.\n"
          ],
          "name": "stderr"
        }
      ]
    },
    {
      "cell_type": "code",
      "metadata": {
        "id": "NGA8aHbBEk_7",
        "colab_type": "code",
        "colab": {}
      },
      "source": [
        "#import tensorflow\n",
        "#print(tensorflow.__version__)"
      ],
      "execution_count": 0,
      "outputs": []
    },
    {
      "cell_type": "code",
      "metadata": {
        "id": "PozQyHvZhWL1",
        "colab_type": "code",
        "colab": {}
      },
      "source": [
        "# Load the dataset and explore it:\n",
        "\n",
        "# MNIST DATASET\n",
        "(x_train, y_train), (x_test, y_test) = mnist.load_data()\n",
        "num_classes = 10\n",
        "\n",
        "# Flattening the data!\n",
        "#  28x28 -> 784\n",
        "x_train = x_train.reshape(60000, 784).astype('float32') / 255.0\n",
        "x_test = x_test.reshape(10000, 784).astype('float32') / 255.0\n",
        "\n",
        "# One hot vector encoding:\n",
        "# 0 -> [1, 0, 0, 0, 0, 0, 0, 0, 0, 0]\n",
        "# \"label 0\" -> [1, 0, 0, 0, 0, 0, 0, 0, 0, 0]\n",
        "# \"label 1\" -> [0, 1, 0, 0, 0, 0, 0, 0, 0, 0]\n",
        "# ... etc!\n",
        "# \"label 9\" -> [0, 0, 0, 0, 0, 0, 0, 0, 0, 1]\n",
        "y_train = keras.utils.to_categorical(y_train, num_classes)\n",
        "y_test = keras.utils.to_categorical(y_test, num_classes)"
      ],
      "execution_count": 0,
      "outputs": []
    },
    {
      "cell_type": "code",
      "metadata": {
        "id": "vFCezY6AiIeh",
        "colab_type": "code",
        "outputId": "487b380a-392e-469a-8cf3-45dfa0378ba6",
        "colab": {
          "base_uri": "https://localhost:8080/",
          "height": 70
        }
      },
      "source": [
        "# Let's look at the data:\n",
        "\n",
        "# Training set\n",
        "print(\"Training set:\")\n",
        "print('x (image data) =', x_train.shape)\n",
        "print('y (labels data) =', y_train.shape)\n",
        "\n",
        "# Are the dimensionalities something we expect?"
      ],
      "execution_count": 3,
      "outputs": [
        {
          "output_type": "stream",
          "text": [
            "Training set:\n",
            "x (image data) = (60000, 784)\n",
            "y (labels data) = (60000, 10)\n"
          ],
          "name": "stdout"
        }
      ]
    },
    {
      "cell_type": "code",
      "metadata": {
        "id": "ZJZYFodshuC_",
        "colab_type": "code",
        "outputId": "d90ea673-6b5c-4039-a259-7c089ae5f1b0",
        "colab": {
          "base_uri": "https://localhost:8080/",
          "height": 300
        }
      },
      "source": [
        "def show_image(image, label): # helper function\n",
        "    print ('Label:', label)\n",
        "    print ('Digit in the image', np.argmax(label))\n",
        "    plt.imshow(image.reshape(28,28),cmap='gray')\n",
        "    plt.show()\n",
        "\n",
        "i = 55000 # select one of the 60000 images!\n",
        "show_image(x_train[i], y_train[i])"
      ],
      "execution_count": 4,
      "outputs": [
        {
          "output_type": "stream",
          "text": [
            "Label: [0. 1. 0. 0. 0. 0. 0. 0. 0. 0.]\n",
            "Digit in the image 1\n"
          ],
          "name": "stdout"
        },
        {
          "output_type": "display_data",
          "data": {
            "image/png": "[encoded data removed]",
            "text/plain": [
              "<Figure size 432x288 with 1 Axes>"
            ]
          },
          "metadata": {
            "tags": [],
            "needs_background": "light"
          }
        }
      ]
    },
    {
      "cell_type": "markdown",
      "metadata": {
        "id": "WxmRgQyYi_A6",
        "colab_type": "text"
      },
      "source": [
        "### Creating a model\n",
        "\n",
        "We will use Keras to create a simple model here!\n"
      ]
    },
    {
      "cell_type": "code",
      "metadata": {
        "id": "bhAYnMIai36b",
        "colab_type": "code",
        "colab": {}
      },
      "source": [
        "# Fully Connected Neural Network MODEL\n",
        "from keras.layers import Dense\n",
        "\n",
        "model = keras.models.Sequential()"
      ],
      "execution_count": 0,
      "outputs": []
    },
    {
      "cell_type": "code",
      "metadata": {
        "id": "fCE2B6RkjAsU",
        "colab_type": "code",
        "colab": {}
      },
      "source": [
        "# function to add a new layer:\n",
        "# - model.add( ... )\n",
        "\n",
        "# create one layer full of 300 neurons\n",
        "# - Dense(300)\n",
        "#   some basic settings include choosing activation function"
      ],
      "execution_count": 0,
      "outputs": []
    },
    {
      "cell_type": "code",
      "metadata": {
        "id": "ycAn2MKdjOUb",
        "colab_type": "code",
        "colab": {}
      },
      "source": [
        "# first layer with 300 neurons\n",
        "model.add(Dense(300, activation='relu', input_shape=(784,)))"
      ],
      "execution_count": 0,
      "outputs": []
    },
    {
      "cell_type": "code",
      "metadata": {
        "id": "dBZ6wH_qjP8x",
        "colab_type": "code",
        "colab": {}
      },
      "source": [
        "# second layer with 100 neurons\n",
        "model.add(Dense(100, activation='relu'))"
      ],
      "execution_count": 0,
      "outputs": []
    },
    {
      "cell_type": "code",
      "metadata": {
        "id": "5k4fR3UujV9R",
        "colab_type": "code",
        "colab": {}
      },
      "source": [
        "# final layer with 10 neurons\n",
        "model.add(Dense(num_classes, activation='softmax'))\n",
        "\n",
        "# softmax is an activation function which will make all the outputs\n",
        "#  sum to 1 (then they are better fitted with one-hot vectors)"
      ],
      "execution_count": 0,
      "outputs": []
    },
    {
      "cell_type": "code",
      "metadata": {
        "id": "dwb6aaQxjZDQ",
        "colab_type": "code",
        "outputId": "c38769a1-bcdb-425c-c1bb-8eba6a92d1fe",
        "colab": {
          "base_uri": "https://localhost:8080/",
          "height": 263
        }
      },
      "source": [
        "model.summary()"
      ],
      "execution_count": 9,
      "outputs": [
        {
          "output_type": "stream",
          "text": [
            "Model: \"sequential_1\"\n",
            "_________________________________________________________________\n",
            "Layer (type)                 Output Shape              Param #   \n",
            "=================================================================\n",
            "dense_1 (Dense)              (None, 300)               235500    \n",
            "_________________________________________________________________\n",
            "dense_2 (Dense)              (None, 100)               30100     \n",
            "_________________________________________________________________\n",
            "dense_3 (Dense)              (None, 10)                1010      \n",
            "=================================================================\n",
            "Total params: 266,610\n",
            "Trainable params: 266,610\n",
            "Non-trainable params: 0\n",
            "_________________________________________________________________\n"
          ],
          "name": "stdout"
        }
      ]
    },
    {
      "cell_type": "code",
      "metadata": {
        "id": "vptXuo5FkMZb",
        "colab_type": "code",
        "outputId": "4601da09-4018-4809-8b0c-63880687e99c",
        "colab": {
          "base_uri": "https://localhost:8080/",
          "height": 422
        }
      },
      "source": [
        "# PS: another helpful function:\n",
        "from keras.utils import plot_model\n",
        "plot_model(model, show_shapes=True)"
      ],
      "execution_count": 10,
      "outputs": [
        {
          "output_type": "execute_result",
          "data": {
            "image/png": "[encoded data removed]",
            "text/plain": [
              "<IPython.core.display.Image object>"
            ]
          },
          "metadata": {
            "tags": []
          },
          "execution_count": 10
        }
      ]
    },
    {
      "cell_type": "markdown",
      "metadata": {
        "id": "Y0kg_avDkoGZ",
        "colab_type": "text"
      },
      "source": [
        "### Training a model"
      ]
    },
    {
      "cell_type": "code",
      "metadata": {
        "id": "rsCjQ6o-lbe7",
        "colab_type": "code",
        "colab": {}
      },
      "source": [
        "# First set it up with compile (we select the optimizer functions etc)\n",
        "#   - SGD is Stochastic Gradient Descent = something similar to what we saw in the slides ...\n",
        "\n",
        "#model.compile( ... )\n",
        "# setting up\n",
        "# - loss function (error)\n",
        "#     mean_squared_error gives you:\n",
        "#         (prediction - label)^2\n",
        "# - optimizer algorithm (remember gradient descent?)\n",
        "# - metrics (what we also want to evaluate during the training (for example for statistics))\n",
        "#   (ps: metrics don't influence how the model will train)\n",
        "\n",
        "model.compile(loss='categorical_crossentropy', #  mean_squared_error\n",
        "              optimizer='sgd',  # RMSprop()\n",
        "              metrics=['accuracy'])\n"
      ],
      "execution_count": 0,
      "outputs": []
    },
    {
      "cell_type": "markdown",
      "metadata": {
        "id": "A3gPjclM7W_8",
        "colab_type": "text"
      },
      "source": [
        "PS: There are many error functions to choose from. Remember that for each sample (for example each one image) we are comparing the outputs of the network (the predictions) with the labels they should have. These are both vectors (of size 10 in this case).\n",
        "\n",
        "\n",
        "Mean squared error:\n",
        "\n",
        "> ![mean_squared_error](https://wikimedia.org/api/rest_v1/media/math/render/svg/e258221518869aa1c6561bb75b99476c4734108e)\n",
        "\n",
        "\n",
        "Categorical Cross-entropy:\n",
        "\n",
        "> ![categorical_crossentropy](https://encrypted-tbn0.gstatic.com/images?q=tbn%3AANd9GcQediZV_J9oWckQU6SMM1bwIJUF05pYb3QJQQhJ3t3YoFcax5Ve&usqp=CAU)"
      ]
    },
    {
      "cell_type": "code",
      "metadata": {
        "id": "AO66icdTknRa",
        "colab_type": "code",
        "colab": {
          "base_uri": "https://localhost:8080/",
          "height": 562
        },
        "outputId": "0cdb8789-964c-4585-e6ca-868377e78a92"
      },
      "source": [
        "# This will train the model with all data for one iteration:\n",
        "\n",
        "# model.fit( ... )\n",
        "# We simply can:\n",
        "#model.fit(x_train, y_train)\n",
        "\n",
        "# Or to repeat it several times with some validation data:\n",
        "history = model.fit(x_train, y_train, epochs=15, validation_data=(x_test, y_test))"
      ],
      "execution_count": 12,
      "outputs": [
        {
          "output_type": "stream",
          "text": [
            "Train on 60000 samples, validate on 10000 samples\n",
            "Epoch 1/15\n",
            "60000/60000 [==============================] - 6s 103us/step - loss: 0.5625 - accuracy: 0.8553 - val_loss: 0.2954 - val_accuracy: 0.9168\n",
            "Epoch 2/15\n",
            "60000/60000 [==============================] - 6s 101us/step - loss: 0.2782 - accuracy: 0.9205 - val_loss: 0.2372 - val_accuracy: 0.9336\n",
            "Epoch 3/15\n",
            "60000/60000 [==============================] - 6s 96us/step - loss: 0.2270 - accuracy: 0.9354 - val_loss: 0.2015 - val_accuracy: 0.9416\n",
            "Epoch 4/15\n",
            "60000/60000 [==============================] - 6s 95us/step - loss: 0.1930 - accuracy: 0.9449 - val_loss: 0.1770 - val_accuracy: 0.9493\n",
            "Epoch 5/15\n",
            "60000/60000 [==============================] - 6s 96us/step - loss: 0.1677 - accuracy: 0.9521 - val_loss: 0.1594 - val_accuracy: 0.9542\n",
            "Epoch 6/15\n",
            "60000/60000 [==============================] - 6s 94us/step - loss: 0.1481 - accuracy: 0.9571 - val_loss: 0.1420 - val_accuracy: 0.9575\n",
            "Epoch 7/15\n",
            "60000/60000 [==============================] - 6s 95us/step - loss: 0.1320 - accuracy: 0.9625 - val_loss: 0.1291 - val_accuracy: 0.9610\n",
            "Epoch 8/15\n",
            "60000/60000 [==============================] - 6s 98us/step - loss: 0.1192 - accuracy: 0.9667 - val_loss: 0.1244 - val_accuracy: 0.9627\n",
            "Epoch 9/15\n",
            "60000/60000 [==============================] - 6s 95us/step - loss: 0.1083 - accuracy: 0.9688 - val_loss: 0.1132 - val_accuracy: 0.9667\n",
            "Epoch 10/15\n",
            "60000/60000 [==============================] - 6s 96us/step - loss: 0.0987 - accuracy: 0.9719 - val_loss: 0.1060 - val_accuracy: 0.9679\n",
            "Epoch 11/15\n",
            "60000/60000 [==============================] - 6s 96us/step - loss: 0.0907 - accuracy: 0.9746 - val_loss: 0.1036 - val_accuracy: 0.9695\n",
            "Epoch 12/15\n",
            "60000/60000 [==============================] - 6s 96us/step - loss: 0.0839 - accuracy: 0.9761 - val_loss: 0.0966 - val_accuracy: 0.9701\n",
            "Epoch 13/15\n",
            "60000/60000 [==============================] - 6s 95us/step - loss: 0.0773 - accuracy: 0.9786 - val_loss: 0.0940 - val_accuracy: 0.9715\n",
            "Epoch 14/15\n",
            "60000/60000 [==============================] - 6s 94us/step - loss: 0.0720 - accuracy: 0.9798 - val_loss: 0.0900 - val_accuracy: 0.9724\n",
            "Epoch 15/15\n",
            "60000/60000 [==============================] - 6s 97us/step - loss: 0.0669 - accuracy: 0.9815 - val_loss: 0.0901 - val_accuracy: 0.9732\n"
          ],
          "name": "stdout"
        }
      ]
    },
    {
      "cell_type": "code",
      "metadata": {
        "id": "N2t3pbo9lVQv",
        "colab_type": "code",
        "outputId": "52e42011-ead3-4259-98b4-4c68d1cfa38a",
        "colab": {
          "base_uri": "https://localhost:8080/",
          "height": 70
        }
      },
      "source": [
        "# What about the results?\n",
        "score = model.evaluate(x_test, y_test)\n",
        "print('Test loss:', score[0])\n",
        "print('Test accuracy:', score[1])"
      ],
      "execution_count": 13,
      "outputs": [
        {
          "output_type": "stream",
          "text": [
            "10000/10000 [==============================] - 0s 33us/step\n",
            "Test loss: 0.0901437747801654\n",
            "Test accuracy: 0.9732000231742859\n"
          ],
          "name": "stdout"
        }
      ]
    },
    {
      "cell_type": "code",
      "metadata": {
        "id": "KR-h9L5Nl-_N",
        "colab_type": "code",
        "colab": {}
      },
      "source": [
        "# PS: For plotting we can also look at the history of the training process:\n",
        "#print(history.history)"
      ],
      "execution_count": 0,
      "outputs": []
    },
    {
      "cell_type": "code",
      "metadata": {
        "id": "y8dacG0BCsca",
        "colab_type": "code",
        "outputId": "5c2f71a1-bdde-4710-f0bb-2a40cf6742c7",
        "colab": {
          "base_uri": "https://localhost:8080/",
          "height": 282
        }
      },
      "source": [
        "loss = history.history[\"loss\"]\n",
        "accuracy = history.history[\"accuracy\"]\n",
        "val_loss = history.history[\"val_loss\"]\n",
        "val_accuracy = history.history[\"val_accuracy\"]\n",
        "\n",
        "epochs = 15\n",
        "epochs_array = list(range(epochs))\n",
        "plt.plot(epochs_array, loss, label=\"loss\")\n",
        "plt.plot(epochs_array, accuracy, label=\"accuracy\")\n",
        "plt.plot(epochs_array, val_loss, label=\"val_loss\")\n",
        "plt.plot(epochs_array, val_accuracy, label=\"val_accuracy\")\n",
        "plt.legend()\n",
        "\n",
        "print(\"Plot:\")"
      ],
      "execution_count": 14,
      "outputs": [
        {
          "output_type": "stream",
          "text": [
            "Plot:\n"
          ],
          "name": "stdout"
        },
        {
          "output_type": "display_data",
          "data": {
            "image/png": "[encoded data removed]",
            "text/plain": [
              "<Figure size 432x288 with 1 Axes>"
            ]
          },
          "metadata": {
            "tags": [],
            "needs_background": "light"
          }
        }
      ]
    },
    {
      "cell_type": "markdown",
      "metadata": {
        "id": "mVDL9VB6hAVb",
        "colab_type": "text"
      },
      "source": [
        "Let's now use the model!"
      ]
    },
    {
      "cell_type": "code",
      "metadata": {
        "id": "5-4ExruiDDUt",
        "colab_type": "code",
        "colab": {}
      },
      "source": [
        "# model.predict( ... )"
      ],
      "execution_count": 0,
      "outputs": []
    },
    {
      "cell_type": "code",
      "metadata": {
        "id": "u7VwEPhcma8X",
        "colab_type": "code",
        "outputId": "40c59ce8-7bad-4141-86f5-20b7ead05fdd",
        "colab": {
          "base_uri": "https://localhost:8080/",
          "height": 511
        }
      },
      "source": [
        "i = 1033 # 22 has 6, 1033 has messy 8\n",
        "image = x_test[i]\n",
        "correct_label = y_test[i]\n",
        "show_image(image, correct_label)\n",
        "\n",
        "input_in_list = np.asarray([image])\n",
        "prediction = model.predict(input_in_list)\n",
        "\n",
        "print(\"We predicted:\", prediction[0])\n",
        "for class_number, number_prediction in enumerate(prediction[0]):\n",
        "    print(class_number, \"=>\", np.round(number_prediction, 3))\n"
      ],
      "execution_count": 15,
      "outputs": [
        {
          "output_type": "stream",
          "text": [
            "Label: [0. 0. 0. 0. 0. 0. 0. 0. 1. 0.]\n",
            "Digit in the image 8\n"
          ],
          "name": "stdout"
        },
        {
          "output_type": "display_data",
          "data": {
            "image/png": "[encoded data removed]",
            "text/plain": [
              "<Figure size 432x288 with 1 Axes>"
            ]
          },
          "metadata": {
            "tags": [],
            "needs_background": "light"
          }
        },
        {
          "output_type": "stream",
          "text": [
            "We predicted: [1.1158445e-04 1.4245496e-03 6.2091000e-05 7.2636995e-03 2.3096760e-05\n",
            " 8.3524526e-07 1.3653605e-06 5.0476785e-07 9.9107283e-01 3.9436025e-05]\n",
            "0 => 0.0\n",
            "1 => 0.001\n",
            "2 => 0.0\n",
            "3 => 0.007\n",
            "4 => 0.0\n",
            "5 => 0.0\n",
            "6 => 0.0\n",
            "7 => 0.0\n",
            "8 => 0.991\n",
            "9 => 0.0\n"
          ],
          "name": "stdout"
        }
      ]
    },
    {
      "cell_type": "code",
      "metadata": {
        "id": "fQbxm2WPFLor",
        "colab_type": "code",
        "outputId": "57c96559-d2fa-4d75-d991-91872a8315f2",
        "colab": {
          "base_uri": "https://localhost:8080/",
          "height": 269
        }
      },
      "source": [
        "plt.plot(prediction[0])\n",
        "plt.ylim(0,1) # predictions are in between 0 and 1\n",
        "plt.xlim(0,9) # 10 classes\n",
        "plt.show()"
      ],
      "execution_count": 16,
      "outputs": [
        {
          "output_type": "display_data",
          "data": {
            "image/png": "[encoded data removed]",
            "text/plain": [
              "<Figure size 432x288 with 1 Axes>"
            ]
          },
          "metadata": {
            "tags": [],
            "needs_background": "light"
          }
        }
      ]
    },
    {
      "cell_type": "markdown",
      "metadata": {
        "id": "8M1lfpzhAjx6",
        "colab_type": "text"
      },
      "source": [
        "# Bonus: Looking inside the neural network!"
      ]
    },
    {
      "cell_type": "markdown",
      "metadata": {
        "id": "F87veRFK9gZ1",
        "colab_type": "text"
      },
      "source": [
        "Let's get a little bit hacky!\n",
        "\n",
        "We can explore the weights (w_i from the slides) and activations (x_i and y_i from the slides) of the network we just trained."
      ]
    },
    {
      "cell_type": "code",
      "metadata": {
        "id": "Sq75Uufc9C3K",
        "colab_type": "code",
        "outputId": "ca760e26-d97e-4f77-ba31-a9e7d6a2a94f",
        "colab": {
          "base_uri": "https://localhost:8080/",
          "height": 34
        }
      },
      "source": [
        "layer_name = 'dense_1' # change this one depending on which layer you want to inspect\n",
        "intermediate_layer_model = keras.models.Model(\n",
        "                    inputs=model.input,\n",
        "                    outputs=model.get_layer(layer_name).output)\n",
        "intermediate_output = intermediate_layer_model.predict(input_in_list)\n",
        "\n",
        "print(\"Activations inside the neural network:\", intermediate_output.shape)"
      ],
      "execution_count": 22,
      "outputs": [
        {
          "output_type": "stream",
          "text": [
            "Activations inside the neural network: (1, 300)\n"
          ],
          "name": "stdout"
        }
      ]
    },
    {
      "cell_type": "code",
      "metadata": {
        "id": "84lghds1Gd-D",
        "colab_type": "code",
        "outputId": "d95af772-bba6-4e3a-c253-f6206fe5994d",
        "colab": {
          "base_uri": "https://localhost:8080/",
          "height": 34
        }
      },
      "source": [
        "print(intermediate_output[0][99])"
      ],
      "execution_count": 23,
      "outputs": [
        {
          "output_type": "stream",
          "text": [
            "0.9852963\n"
          ],
          "name": "stdout"
        }
      ]
    },
    {
      "cell_type": "code",
      "metadata": {
        "id": "fS_bfUaV-M1F",
        "colab_type": "code",
        "outputId": "7405032d-759b-44f2-af7b-0c97ad9ec4a9",
        "colab": {
          "base_uri": "https://localhost:8080/",
          "height": 228
        }
      },
      "source": [
        "# To get why and how this works, we can try: \n",
        "intermediate_layer_model.summary()"
      ],
      "execution_count": 24,
      "outputs": [
        {
          "output_type": "stream",
          "text": [
            "Model: \"model_2\"\n",
            "_________________________________________________________________\n",
            "Layer (type)                 Output Shape              Param #   \n",
            "=================================================================\n",
            "dense_1_input (InputLayer)   (None, 784)               0         \n",
            "_________________________________________________________________\n",
            "dense_1 (Dense)              (None, 300)               235500    \n",
            "=================================================================\n",
            "Total params: 235,500\n",
            "Trainable params: 235,500\n",
            "Non-trainable params: 0\n",
            "_________________________________________________________________\n"
          ],
          "name": "stdout"
        }
      ]
    },
    {
      "cell_type": "code",
      "metadata": {
        "id": "XBZkv-H0-jGy",
        "colab_type": "code",
        "outputId": "48b97993-88b3-4309-bd77-597ebac9b95b",
        "colab": {
          "base_uri": "https://localhost:8080/",
          "height": 70
        }
      },
      "source": [
        "layer_name = 'dense_1'\n",
        "weights = model.get_layer(layer_name).get_weights()\n",
        "W, b = weights\n",
        "print(\"Weights of a fully connected layer:\")\n",
        "print(\"weights for W (multiplication of inputs):\", W.shape)\n",
        "print(\"weights for b (bias):\", b.shape)\n",
        "\n",
        "# set_weights(weights)"
      ],
      "execution_count": 25,
      "outputs": [
        {
          "output_type": "stream",
          "text": [
            "Weights of a fully connected layer:\n",
            "weights for W (multiplication of inputs): (784, 300)\n",
            "weights for b (bias): (300,)\n"
          ],
          "name": "stdout"
        }
      ]
    },
    {
      "cell_type": "code",
      "metadata": {
        "id": "GnnlPUO0_DAj",
        "colab_type": "code",
        "outputId": "f949eff2-1f77-4dd1-f3f2-62e6004bca3e",
        "colab": {
          "base_uri": "https://localhost:8080/",
          "height": 70
        }
      },
      "source": [
        "# We can look at all of them\n",
        "\n",
        "for layer in model.layers:\n",
        "    weights = layer.get_weights() # list of numpy arrays\n",
        "    print(layer.name, \", W\" ,weights[0].shape, \", b\", weights[1].shape)"
      ],
      "execution_count": 26,
      "outputs": [
        {
          "output_type": "stream",
          "text": [
            "dense_1 , W (784, 300) , b (300,)\n",
            "dense_2 , W (300, 100) , b (100,)\n",
            "dense_3 , W (100, 10) , b (10,)\n"
          ],
          "name": "stdout"
        }
      ]
    },
    {
      "cell_type": "markdown",
      "metadata": {
        "id": "QjqyeflnD2vi",
        "colab_type": "text"
      },
      "source": [
        "To get the values for weights and activations can be used for example for visualizations (such as we saw in http://www.cs.cmu.edu/~aharley/vis/fc/flat.html ). Each square there (neuron) has brightness depending on it's activation. Each connection has brightness depending on the strength of that particular weight (w_i)."
      ]
    },
    {
      "cell_type": "markdown",
      "metadata": {
        "id": "dn1JxpJNEikC",
        "colab_type": "text"
      },
      "source": [
        "### Directly accessing the weights?"
      ]
    },
    {
      "cell_type": "markdown",
      "metadata": {
        "id": "CpwSqSQzBP3l",
        "colab_type": "text"
      },
      "source": [
        "This also allows us to directly change them. Why would we like that? To change them / to break the model / to explore what's happening."
      ]
    },
    {
      "cell_type": "code",
      "metadata": {
        "id": "Vr-QHKy4CmKa",
        "colab_type": "code",
        "colab": {}
      },
      "source": [
        "# to have a cloned version of the model (using a lazy solution here, but it works)\n",
        "model.save(\"hax.h5\") # saves compiled state\n",
        "model_copy = keras.models.load_model(\"hax.h5\")"
      ],
      "execution_count": 0,
      "outputs": []
    },
    {
      "cell_type": "code",
      "metadata": {
        "id": "Goc4_QfuBOwl",
        "colab_type": "code",
        "outputId": "608fd1e4-1d35-4112-dd00-bac484abfff5",
        "colab": {
          "base_uri": "https://localhost:8080/",
          "height": 87
        }
      },
      "source": [
        "# select an input image\n",
        "i = 136\n",
        "input_in_list = np.asarray([x_test[i]])\n",
        "\n",
        "# then select which layer we want to 'adjust'\n",
        "\n",
        "layer_name = 'dense_1'\n",
        "weights = model.get_layer(layer_name).get_weights()\n",
        "W, b = weights\n",
        "\n",
        "W = W*0.0\n",
        "b = b*1.0\n",
        "\n",
        "weights = W, b\n",
        "model_copy.get_layer(layer_name).set_weights(weights)\n",
        "# set_weights(weights)\n",
        "\n",
        "prediction = model.predict(input_in_list)\n",
        "print(\"original model says:\", np.argmax(prediction), \" ... \", prediction)\n",
        "\n",
        "hacked_prediction = model_copy.predict(input_in_list)\n",
        "print(\"hacked model says:\", np.argmax(hacked_prediction), \" ... \", hacked_prediction) # we fooled it!"
      ],
      "execution_count": 30,
      "outputs": [
        {
          "output_type": "stream",
          "text": [
            "original model says: 0  ...  [[9.9893230e-01 2.4431781e-06 5.8222626e-04 2.5457907e-06 2.6041648e-06\n",
            "  3.1471161e-05 2.3671787e-04 2.4915666e-05 7.6392034e-06 1.7719191e-04]]\n",
            "hacked model says: 5  ...  [[0.06462567 0.09409218 0.08346437 0.04251543 0.13232595 0.20744088\n",
            "  0.09038832 0.11151167 0.08335374 0.09028181]]\n"
          ],
          "name": "stdout"
        }
      ]
    },
    {
      "cell_type": "markdown",
      "metadata": {
        "id": "BuQ0fm_aC0MX",
        "colab_type": "text"
      },
      "source": [
        "# Solution code"
      ]
    },
    {
      "cell_type": "markdown",
      "metadata": {
        "id": "DBZP2t1PDFbM",
        "colab_type": "text"
      },
      "source": [
        "imports:"
      ]
    },
    {
      "cell_type": "code",
      "metadata": {
        "id": "VMiMwjMFC36_",
        "colab_type": "code",
        "colab": {}
      },
      "source": [
        "# Imports for the libraries we will use ...\n",
        "from __future__ import print_function\n",
        "import keras\n",
        "from keras.datasets import mnist\n",
        "from keras.models import Sequential\n",
        "from keras.layers import Dense\n",
        "import matplotlib.pyplot as plt\n",
        "import numpy as np"
      ],
      "execution_count": 0,
      "outputs": []
    },
    {
      "cell_type": "markdown",
      "metadata": {
        "id": "PN8_ZjNkz8Sz",
        "colab_type": "text"
      },
      "source": [
        "## Loading and inspecting the MNIST dataset"
      ]
    },
    {
      "cell_type": "code",
      "metadata": {
        "id": "E55EOF4v0H4W",
        "colab_type": "code",
        "outputId": "6327e911-f536-47fd-8437-85fbfcab0e74",
        "colab": {
          "base_uri": "https://localhost:8080/",
          "height": 51
        }
      },
      "source": [
        "# MNIST DATASET\n",
        "(x_train, y_train), (x_test, y_test) = mnist.load_data()\n",
        "num_classes = 10\n",
        "\n",
        "# Flattening the data!\n",
        "#  28x28 -> 784\n",
        "x_train = x_train.reshape(60000, 784)\n",
        "x_test = x_test.reshape(10000, 784)\n",
        "x_train = x_train.astype('float32')\n",
        "x_test = x_test.astype('float32')\n",
        "x_train /= 255\n",
        "x_test /= 255\n",
        "print(x_train.shape[0], 'train samples')\n",
        "print(x_test.shape[0], 'test samples')\n",
        "\n",
        "# One hot vector encoding:\n",
        "# \"label 0\" -> [1, 0, 0, 0, 0, 0, 0, 0, 0, 0]\n",
        "# \"label 1\" -> [0, 1, 0, 0, 0, 0, 0, 0, 0, 0]\n",
        "# ... etc!\n",
        "# \"label 9\" -> [0, 0, 0, 0, 0, 0, 0, 0, 0, 1]\n",
        "y_train = keras.utils.to_categorical(y_train, num_classes)\n",
        "y_test = keras.utils.to_categorical(y_test, num_classes)"
      ],
      "execution_count": 0,
      "outputs": [
        {
          "output_type": "stream",
          "text": [
            "60000 train samples\n",
            "10000 test samples\n"
          ],
          "name": "stdout"
        }
      ]
    },
    {
      "cell_type": "code",
      "metadata": {
        "id": "YPo1TNRd0s61",
        "colab_type": "code",
        "outputId": "73531567-a2f6-4b6c-d26b-4a279ec35905",
        "colab": {
          "base_uri": "https://localhost:8080/",
          "height": 581
        }
      },
      "source": [
        "%matplotlib inline\n",
        "images = x_train[0:2]\n",
        "labels = y_train[0:2]\n",
        "for index, image in enumerate(images):\n",
        "    print ('Label:', labels[index])\n",
        "    print ('Digit in the image', np.argmax(labels[index]))\n",
        "    plt.imshow(image.reshape(28,28),cmap='gray')\n",
        "    plt.show()"
      ],
      "execution_count": 0,
      "outputs": [
        {
          "output_type": "stream",
          "text": [
            "Label: [0. 0. 0. 0. 0. 1. 0. 0. 0. 0.]\n",
            "Digit in the image 5\n"
          ],
          "name": "stdout"
        },
        {
          "output_type": "display_data",
          "data": {
            "image/png": "[encoded data removed]",
            "text/plain": [
              "<Figure size 432x288 with 1 Axes>"
            ]
          },
          "metadata": {
            "tags": [],
            "needs_background": "light"
          }
        },
        {
          "output_type": "stream",
          "text": [
            "Label: [1. 0. 0. 0. 0. 0. 0. 0. 0. 0.]\n",
            "Digit in the image 0\n"
          ],
          "name": "stdout"
        },
        {
          "output_type": "display_data",
          "data": {
            "image/png": "[encoded data removed]",
            "text/plain": [
              "<Figure size 432x288 with 1 Axes>"
            ]
          },
          "metadata": {
            "tags": [],
            "needs_background": "light"
          }
        }
      ]
    },
    {
      "cell_type": "markdown",
      "metadata": {
        "id": "cL1TQhiSmCS4",
        "colab_type": "text"
      },
      "source": [
        "## Creating and training the model"
      ]
    },
    {
      "cell_type": "code",
      "metadata": {
        "id": "d4eGdFDFwcZX",
        "colab_type": "code",
        "outputId": "028bccf9-41ba-4675-a2c9-fc9c31c35b6c",
        "colab": {
          "base_uri": "https://localhost:8080/",
          "height": 255
        }
      },
      "source": [
        "# Fully Connected Neural Network MODEL\n",
        "\n",
        "model = Sequential()\n",
        "model.add(Dense(300, activation='relu', input_shape=(784,)))\n",
        "model.add(Dense(100, activation='relu'))\n",
        "model.add(Dense(num_classes, activation='softmax'))\n",
        "\n",
        "model.summary()"
      ],
      "execution_count": 0,
      "outputs": [
        {
          "output_type": "stream",
          "text": [
            "Model: \"sequential_4\"\n",
            "_________________________________________________________________\n",
            "Layer (type)                 Output Shape              Param #   \n",
            "=================================================================\n",
            "dense_9 (Dense)              (None, 300)               235500    \n",
            "_________________________________________________________________\n",
            "dense_10 (Dense)             (None, 100)               30100     \n",
            "_________________________________________________________________\n",
            "dense_11 (Dense)             (None, 10)                1010      \n",
            "=================================================================\n",
            "Total params: 266,610\n",
            "Trainable params: 266,610\n",
            "Non-trainable params: 0\n",
            "_________________________________________________________________\n"
          ],
          "name": "stdout"
        }
      ]
    },
    {
      "cell_type": "code",
      "metadata": {
        "id": "VNHFMasNxoXN",
        "colab_type": "code",
        "outputId": "8ee0886e-816f-4fcf-9472-74fd3095aa52",
        "colab": {
          "base_uri": "https://localhost:8080/",
          "height": 748
        }
      },
      "source": [
        "# Training the model:\n",
        "batch_size = 128\n",
        "epochs = 20\n",
        "\n",
        "# First setup few things (like which function will be used for optimization)\n",
        "# ps: some of these are not the best - but they were chosen for illustration to match what we studied about.\n",
        "model.compile(loss='categorical_crossentropy',\n",
        "              optimizer=keras.optimizers.SGD(), # RMSprop()\n",
        "              metrics=['accuracy'])\n",
        "\n",
        "# And then start up the training:\n",
        "history = model.fit(x_train, y_train,\n",
        "                    batch_size=batch_size,\n",
        "                    epochs=epochs,\n",
        "                    verbose=1,\n",
        "                    validation_data=(x_test, y_test))\n",
        "score = model.evaluate(x_test, y_test, verbose=0)\n",
        "print('Test loss:', score[0])\n",
        "print('Test accuracy:', score[1])"
      ],
      "execution_count": 0,
      "outputs": [
        {
          "output_type": "stream",
          "text": [
            "Train on 60000 samples, validate on 10000 samples\n",
            "Epoch 1/20\n",
            "60000/60000 [==============================] - 3s 48us/step - loss: 1.0469 - accuracy: 0.7484 - val_loss: 0.5109 - val_accuracy: 0.8753\n",
            "Epoch 2/20\n",
            "60000/60000 [==============================] - 3s 48us/step - loss: 0.4443 - accuracy: 0.8837 - val_loss: 0.3700 - val_accuracy: 0.9000\n",
            "Epoch 3/20\n",
            "60000/60000 [==============================] - 3s 48us/step - loss: 0.3579 - accuracy: 0.9010 - val_loss: 0.3189 - val_accuracy: 0.9120\n",
            "Epoch 4/20\n",
            "60000/60000 [==============================] - 3s 47us/step - loss: 0.3175 - accuracy: 0.9108 - val_loss: 0.2912 - val_accuracy: 0.9188\n",
            "Epoch 5/20\n",
            "60000/60000 [==============================] - 3s 47us/step - loss: 0.2911 - accuracy: 0.9182 - val_loss: 0.2695 - val_accuracy: 0.9267\n",
            "Epoch 6/20\n",
            "60000/60000 [==============================] - 3s 47us/step - loss: 0.2710 - accuracy: 0.9230 - val_loss: 0.2542 - val_accuracy: 0.9302\n",
            "Epoch 7/20\n",
            "60000/60000 [==============================] - 3s 47us/step - loss: 0.2550 - accuracy: 0.9282 - val_loss: 0.2408 - val_accuracy: 0.9337\n",
            "Epoch 8/20\n",
            "60000/60000 [==============================] - 3s 47us/step - loss: 0.2412 - accuracy: 0.9318 - val_loss: 0.2269 - val_accuracy: 0.9367\n",
            "Epoch 9/20\n",
            "60000/60000 [==============================] - 3s 48us/step - loss: 0.2291 - accuracy: 0.9350 - val_loss: 0.2182 - val_accuracy: 0.9388\n",
            "Epoch 10/20\n",
            "60000/60000 [==============================] - 3s 48us/step - loss: 0.2188 - accuracy: 0.9381 - val_loss: 0.2081 - val_accuracy: 0.9417\n",
            "Epoch 11/20\n",
            "60000/60000 [==============================] - 3s 47us/step - loss: 0.2090 - accuracy: 0.9409 - val_loss: 0.2010 - val_accuracy: 0.9439\n",
            "Epoch 12/20\n",
            "60000/60000 [==============================] - 3s 47us/step - loss: 0.2005 - accuracy: 0.9429 - val_loss: 0.1945 - val_accuracy: 0.9448\n",
            "Epoch 13/20\n",
            "60000/60000 [==============================] - 3s 48us/step - loss: 0.1927 - accuracy: 0.9450 - val_loss: 0.1867 - val_accuracy: 0.9469\n",
            "Epoch 14/20\n",
            "60000/60000 [==============================] - 3s 48us/step - loss: 0.1853 - accuracy: 0.9473 - val_loss: 0.1809 - val_accuracy: 0.9471\n",
            "Epoch 15/20\n",
            "60000/60000 [==============================] - 3s 48us/step - loss: 0.1789 - accuracy: 0.9491 - val_loss: 0.1759 - val_accuracy: 0.9497\n",
            "Epoch 16/20\n",
            "60000/60000 [==============================] - 3s 48us/step - loss: 0.1727 - accuracy: 0.9506 - val_loss: 0.1701 - val_accuracy: 0.9516\n",
            "Epoch 17/20\n",
            "60000/60000 [==============================] - 3s 48us/step - loss: 0.1668 - accuracy: 0.9528 - val_loss: 0.1652 - val_accuracy: 0.9522\n",
            "Epoch 18/20\n",
            "60000/60000 [==============================] - 3s 47us/step - loss: 0.1614 - accuracy: 0.9544 - val_loss: 0.1617 - val_accuracy: 0.9535\n",
            "Epoch 19/20\n",
            "60000/60000 [==============================] - 3s 48us/step - loss: 0.1562 - accuracy: 0.9561 - val_loss: 0.1566 - val_accuracy: 0.9550\n",
            "Epoch 20/20\n",
            "60000/60000 [==============================] - 3s 48us/step - loss: 0.1514 - accuracy: 0.9576 - val_loss: 0.1543 - val_accuracy: 0.9538\n",
            "Test loss: 0.15426905433759094\n",
            "Test accuracy: 0.9538000226020813\n"
          ],
          "name": "stdout"
        }
      ]
    },
    {
      "cell_type": "code",
      "metadata": {
        "id": "4p4NBqSzwsxv",
        "colab_type": "code",
        "outputId": "951690ef-f2f9-423e-9561-7317b036c4b7",
        "colab": {
          "base_uri": "https://localhost:8080/",
          "height": 282
        }
      },
      "source": [
        "# Great! ... Wait ... so what happened?\n",
        "\n",
        "# Here we can visualize the progess of the error (loss) going down and the accuracy going up!\n",
        "\n",
        "loss = history.history[\"loss\"]\n",
        "accuracy = history.history[\"accuracy\"]\n",
        "val_loss = history.history[\"val_loss\"]\n",
        "val_accuracy = history.history[\"val_accuracy\"]\n",
        "\n",
        "epochs_array = list(range(epochs))\n",
        "plt.plot(epochs_array, loss, label=\"loss\")\n",
        "plt.plot(epochs_array, accuracy, label=\"accuracy\")\n",
        "plt.plot(epochs_array, val_loss, label=\"val_loss\")\n",
        "plt.plot(epochs_array, val_accuracy, label=\"val_accuracy\")\n",
        "plt.legend()\n",
        "\n",
        "print(\"Plot:\")"
      ],
      "execution_count": 0,
      "outputs": [
        {
          "output_type": "stream",
          "text": [
            "Plot:\n"
          ],
          "name": "stdout"
        },
        {
          "output_type": "display_data",
          "data": {
            "image/png": "[encoded data removed]",
            "text/plain": [
              "<Figure size 432x288 with 1 Axes>"
            ]
          },
          "metadata": {
            "tags": [],
            "needs_background": "light"
          }
        }
      ]
    }
  ]
}
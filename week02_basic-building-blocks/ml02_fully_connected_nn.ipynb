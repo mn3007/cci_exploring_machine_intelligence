{
  "nbformat": 4,
  "nbformat_minor": 0,
  "metadata": {
    "colab": {
      "name": "ml02_fully-connected-nn.ipynb",
      "provenance": [],
      "collapsed_sections": [
        "BuQ0fm_aC0MX",
        "PN8_ZjNkz8Sz",
        "cL1TQhiSmCS4"
      ]
    },
    "kernelspec": {
      "name": "python3",
      "display_name": "Python 3"
    }
  },
  "cells": [
    {
      "cell_type": "markdown",
      "metadata": {
        "id": "7m5ILWqUfdJP",
        "colab_type": "text"
      },
      "source": [
        "# Fully Connected Neural Network\n",
        "\n",
        "\"Artificial neural networks (ANN) are computing systems vaguely inspired by the biological neural networks that constitute animal brains.\" [[link](https://en.wikipedia.org/wiki/Artificial_neural_network)]\n",
        "\n",
        "![Fully Connected Neural Network](https://raw.githubusercontent.com/previtus/cci_exploring_machine_intelligence/master/week02_basic-building-blocks/ml02_fully_connected_neural_network_illustration.png)\n",
        "\n"
      ]
    },
    {
      "cell_type": "markdown",
      "metadata": {
        "id": "-q8VeTxBhPCn",
        "colab_type": "text"
      },
      "source": [
        "# Starter code"
      ]
    },
    {
      "cell_type": "markdown",
      "metadata": {
        "id": "FnCp374IhUjW",
        "colab_type": "text"
      },
      "source": [
        "imports:"
      ]
    },
    {
      "cell_type": "code",
      "metadata": {
        "id": "1gRw2ft9hRuc",
        "colab_type": "code",
        "colab": {}
      },
      "source": [
        "# Imports for the libraries we will use ...\n",
        "from __future__ import print_function\n",
        "import keras\n",
        "from keras.datasets import mnist\n",
        "from keras.models import Sequential\n",
        "from keras.layers import Dense\n",
        "import matplotlib.pyplot as plt\n",
        "%matplotlib inline\n",
        "import numpy as np"
      ],
      "execution_count": 0,
      "outputs": []
    },
    {
      "cell_type": "code",
      "metadata": {
        "id": "PozQyHvZhWL1",
        "colab_type": "code",
        "colab": {}
      },
      "source": [
        "# Load the dataset and explore it:\n",
        "\n",
        "# MNIST DATASET\n",
        "(x_train, y_train), (x_test, y_test) = mnist.load_data()\n",
        "num_classes = 10\n",
        "\n",
        "# Flattening the data!\n",
        "#  28x28 -> 784\n",
        "x_train = x_train.reshape(60000, 784).astype('float32') / 255.0\n",
        "x_test = x_test.reshape(10000, 784).astype('float32') / 255.0\n",
        "\n",
        "# One hot vector encoding:\n",
        "# \"label 0\" -> [1, 0, 0, 0, 0, 0, 0, 0, 0, 0]\n",
        "# \"label 1\" -> [0, 1, 0, 0, 0, 0, 0, 0, 0, 0]\n",
        "# ... etc!\n",
        "# \"label 9\" -> [0, 0, 0, 0, 0, 0, 0, 0, 0, 1]\n",
        "y_train = keras.utils.to_categorical(y_train, num_classes)\n",
        "y_test = keras.utils.to_categorical(y_test, num_classes)"
      ],
      "execution_count": 0,
      "outputs": []
    },
    {
      "cell_type": "code",
      "metadata": {
        "id": "vFCezY6AiIeh",
        "colab_type": "code",
        "colab": {}
      },
      "source": [
        "# Let's look at the data:\n",
        "\n",
        "# Training set\n",
        "print(\"Training set:\")\n",
        "print('x (image data) =', x_train.shape)\n",
        "print('y (labels data) =', y_train.shape)\n"
      ],
      "execution_count": 0,
      "outputs": []
    },
    {
      "cell_type": "code",
      "metadata": {
        "id": "ZJZYFodshuC_",
        "colab_type": "code",
        "colab": {}
      },
      "source": [
        "def show_image(image, label):\n",
        "    print ('Label:', label)\n",
        "    print ('Digit in the image', np.argmax(label))\n",
        "    plt.imshow(image.reshape(28,28),cmap='gray')\n",
        "    plt.show()\n",
        "\n",
        "i = 0 # select one of the 60000 images!\n",
        "show_image(x_train[i], y_train[i])"
      ],
      "execution_count": 0,
      "outputs": []
    },
    {
      "cell_type": "markdown",
      "metadata": {
        "id": "WxmRgQyYi_A6",
        "colab_type": "text"
      },
      "source": [
        "We will use Keras to create a simple model here!\n"
      ]
    },
    {
      "cell_type": "code",
      "metadata": {
        "id": "bhAYnMIai36b",
        "colab_type": "code",
        "colab": {}
      },
      "source": [
        "# Fully Connected Neural Network MODEL\n",
        "from keras.layers import Dense\n",
        "\n",
        "model = keras.models.Sequential()"
      ],
      "execution_count": 0,
      "outputs": []
    },
    {
      "cell_type": "code",
      "metadata": {
        "id": "fCE2B6RkjAsU",
        "colab_type": "code",
        "colab": {}
      },
      "source": [
        "# function to add a new layer:\n",
        "# - model.add( ... )\n",
        "\n",
        "# create one layer full of 300 neurons\n",
        "# - Dense(300)"
      ],
      "execution_count": 0,
      "outputs": []
    },
    {
      "cell_type": "code",
      "metadata": {
        "id": "ycAn2MKdjOUb",
        "colab_type": "code",
        "colab": {}
      },
      "source": [
        "# first layer with 300 neurons\n",
        "model.add(Dense(300, activation='relu', input_shape=(784,)))"
      ],
      "execution_count": 0,
      "outputs": []
    },
    {
      "cell_type": "code",
      "metadata": {
        "id": "dBZ6wH_qjP8x",
        "colab_type": "code",
        "colab": {}
      },
      "source": [
        "# second layer with 100 neurons\n",
        "model.add(Dense(100, activation='relu'))"
      ],
      "execution_count": 0,
      "outputs": []
    },
    {
      "cell_type": "code",
      "metadata": {
        "id": "5k4fR3UujV9R",
        "colab_type": "code",
        "colab": {}
      },
      "source": [
        "# final layer with 10 neurons\n",
        "model.add(Dense(num_classes, activation='softmax')) \n",
        "\n",
        "# softmax is function which will make all the outputs sum to 1 (then they are better fitted with one-hot vectors)"
      ],
      "execution_count": 0,
      "outputs": []
    },
    {
      "cell_type": "code",
      "metadata": {
        "id": "dwb6aaQxjZDQ",
        "colab_type": "code",
        "colab": {}
      },
      "source": [
        "model.summary()"
      ],
      "execution_count": 0,
      "outputs": []
    },
    {
      "cell_type": "code",
      "metadata": {
        "id": "vptXuo5FkMZb",
        "colab_type": "code",
        "colab": {}
      },
      "source": [
        "# PS: another helpful function:\n",
        "from keras.utils import plot_model\n",
        "plot_model(model, show_shapes=True)"
      ],
      "execution_count": 0,
      "outputs": []
    },
    {
      "cell_type": "markdown",
      "metadata": {
        "id": "Y0kg_avDkoGZ",
        "colab_type": "text"
      },
      "source": [
        "Training the model"
      ]
    },
    {
      "cell_type": "code",
      "metadata": {
        "id": "rsCjQ6o-lbe7",
        "colab_type": "code",
        "colab": {}
      },
      "source": [
        "# First set it up with compile (we select the optimizer functions etc)\n",
        "#   - SGD is Stochastic Gradient Descent = something similar to what we saw in the slides ...\n",
        "\n",
        "#model.compile( ... )\n",
        "\n",
        "model.compile(loss='categorical_crossentropy',\n",
        "              optimizer=keras.optimizers.SGD(), # RMSprop()\n",
        "              metrics=['accuracy'])"
      ],
      "execution_count": 0,
      "outputs": []
    },
    {
      "cell_type": "code",
      "metadata": {
        "id": "AO66icdTknRa",
        "colab_type": "code",
        "colab": {}
      },
      "source": [
        "# This will train the model with all data for one iteration:\n",
        "\n",
        "# model.fit( ... )\n",
        "# We simply can:\n",
        "model.fit(x_train, y_train)\n",
        "\n",
        "# Or to repeat it several times with some validation data:\n",
        "#history = model.fit(x_train, y_train, epochs=4, validation_data=(x_test, y_test))"
      ],
      "execution_count": 0,
      "outputs": []
    },
    {
      "cell_type": "code",
      "metadata": {
        "id": "N2t3pbo9lVQv",
        "colab_type": "code",
        "colab": {}
      },
      "source": [
        "# What about the results?\n",
        "score = model.evaluate(x_test, y_test, verbose=0)\n",
        "print('Test loss:', score[0])\n",
        "print('Test accuracy:', score[1])"
      ],
      "execution_count": 0,
      "outputs": []
    },
    {
      "cell_type": "code",
      "metadata": {
        "id": "KR-h9L5Nl-_N",
        "colab_type": "code",
        "colab": {}
      },
      "source": [
        "# PS: For plotting we can also look at the history of the training process:\n",
        "# print(history.history)"
      ],
      "execution_count": 0,
      "outputs": []
    },
    {
      "cell_type": "markdown",
      "metadata": {
        "id": "mVDL9VB6hAVb",
        "colab_type": "text"
      },
      "source": [
        "Let's now use the model!"
      ]
    },
    {
      "cell_type": "code",
      "metadata": {
        "id": "u7VwEPhcma8X",
        "colab_type": "code",
        "colab": {}
      },
      "source": [
        "i = 22 # 22 has 6, 1033 has messy 8\n",
        "image = x_test[i]\n",
        "correct_label = y_test[i]\n",
        "show_image(image, correct_label)\n",
        "\n",
        "input_in_list = np.asarray([image])\n",
        "prediction = model.predict(input_in_list)\n",
        "\n",
        "print(\"We predicted:\", prediction[0])\n",
        "for class_number, number_prediction in enumerate(prediction[0]):\n",
        "    print(class_number, \"=>\", np.round(number_prediction, 2))"
      ],
      "execution_count": 0,
      "outputs": []
    },
    {
      "cell_type": "markdown",
      "metadata": {
        "id": "BuQ0fm_aC0MX",
        "colab_type": "text"
      },
      "source": [
        "# Solution code"
      ]
    },
    {
      "cell_type": "markdown",
      "metadata": {
        "id": "DBZP2t1PDFbM",
        "colab_type": "text"
      },
      "source": [
        "imports:"
      ]
    },
    {
      "cell_type": "code",
      "metadata": {
        "id": "VMiMwjMFC36_",
        "colab_type": "code",
        "colab": {}
      },
      "source": [
        "# Imports for the libraries we will use ...\n",
        "from __future__ import print_function\n",
        "import keras\n",
        "from keras.datasets import mnist\n",
        "from keras.models import Sequential\n",
        "from keras.layers import Dense\n",
        "import matplotlib.pyplot as plt\n",
        "import numpy as np"
      ],
      "execution_count": 0,
      "outputs": []
    },
    {
      "cell_type": "markdown",
      "metadata": {
        "id": "PN8_ZjNkz8Sz",
        "colab_type": "text"
      },
      "source": [
        "## Loading and inspecting the MNIST dataset"
      ]
    },
    {
      "cell_type": "code",
      "metadata": {
        "id": "E55EOF4v0H4W",
        "colab_type": "code",
        "outputId": "6327e911-f536-47fd-8437-85fbfcab0e74",
        "colab": {
          "base_uri": "https://localhost:8080/",
          "height": 51
        }
      },
      "source": [
        "# MNIST DATASET\n",
        "(x_train, y_train), (x_test, y_test) = mnist.load_data()\n",
        "num_classes = 10\n",
        "\n",
        "# Flattening the data!\n",
        "#  28x28 -> 784\n",
        "x_train = x_train.reshape(60000, 784)\n",
        "x_test = x_test.reshape(10000, 784)\n",
        "x_train = x_train.astype('float32')\n",
        "x_test = x_test.astype('float32')\n",
        "x_train /= 255\n",
        "x_test /= 255\n",
        "print(x_train.shape[0], 'train samples')\n",
        "print(x_test.shape[0], 'test samples')\n",
        "\n",
        "# One hot vector encoding:\n",
        "# \"label 0\" -> [1, 0, 0, 0, 0, 0, 0, 0, 0, 0]\n",
        "# \"label 1\" -> [0, 1, 0, 0, 0, 0, 0, 0, 0, 0]\n",
        "# ... etc!\n",
        "# \"label 9\" -> [0, 0, 0, 0, 0, 0, 0, 0, 0, 1]\n",
        "y_train = keras.utils.to_categorical(y_train, num_classes)\n",
        "y_test = keras.utils.to_categorical(y_test, num_classes)"
      ],
      "execution_count": 0,
      "outputs": [
        {
          "output_type": "stream",
          "text": [
            "60000 train samples\n",
            "10000 test samples\n"
          ],
          "name": "stdout"
        }
      ]
    },
    {
      "cell_type": "code",
      "metadata": {
        "id": "YPo1TNRd0s61",
        "colab_type": "code",
        "outputId": "73531567-a2f6-4b6c-d26b-4a279ec35905",
        "colab": {
          "base_uri": "https://localhost:8080/",
          "height": 581
        }
      },
      "source": [
        "%matplotlib inline\n",
        "images = x_train[0:2]\n",
        "labels = y_train[0:2]\n",
        "for index, image in enumerate(images):\n",
        "    print ('Label:', labels[index])\n",
        "    print ('Digit in the image', np.argmax(labels[index]))\n",
        "    plt.imshow(image.reshape(28,28),cmap='gray')\n",
        "    plt.show()"
      ],
      "execution_count": 0,
      "outputs": [
        {
          "output_type": "stream",
          "text": [
            "Label: [0. 0. 0. 0. 0. 1. 0. 0. 0. 0.]\n",
            "Digit in the image 5\n"
          ],
          "name": "stdout"
        },
        {
          "output_type": "display_data",
          "data": {
            "image/png": "[encoded data removed]",
            "text/plain": [
              "<Figure size 432x288 with 1 Axes>"
            ]
          },
          "metadata": {
            "tags": [],
            "needs_background": "light"
          }
        },
        {
          "output_type": "stream",
          "text": [
            "Label: [1. 0. 0. 0. 0. 0. 0. 0. 0. 0.]\n",
            "Digit in the image 0\n"
          ],
          "name": "stdout"
        },
        {
          "output_type": "display_data",
          "data": {
            "image/png": "[encoded data removed]",
            "text/plain": [
              "<Figure size 432x288 with 1 Axes>"
            ]
          },
          "metadata": {
            "tags": [],
            "needs_background": "light"
          }
        }
      ]
    },
    {
      "cell_type": "markdown",
      "metadata": {
        "id": "cL1TQhiSmCS4",
        "colab_type": "text"
      },
      "source": [
        "## Creating and training the model"
      ]
    },
    {
      "cell_type": "code",
      "metadata": {
        "id": "d4eGdFDFwcZX",
        "colab_type": "code",
        "outputId": "028bccf9-41ba-4675-a2c9-fc9c31c35b6c",
        "colab": {
          "base_uri": "https://localhost:8080/",
          "height": 255
        }
      },
      "source": [
        "# Fully Connected Neural Network MODEL\n",
        "\n",
        "model = Sequential()\n",
        "model.add(Dense(300, activation='relu', input_shape=(784,)))\n",
        "model.add(Dense(100, activation='relu'))\n",
        "model.add(Dense(num_classes, activation='softmax'))\n",
        "\n",
        "model.summary()"
      ],
      "execution_count": 0,
      "outputs": [
        {
          "output_type": "stream",
          "text": [
            "Model: \"sequential_4\"\n",
            "_________________________________________________________________\n",
            "Layer (type)                 Output Shape              Param #   \n",
            "=================================================================\n",
            "dense_9 (Dense)              (None, 300)               235500    \n",
            "_________________________________________________________________\n",
            "dense_10 (Dense)             (None, 100)               30100     \n",
            "_________________________________________________________________\n",
            "dense_11 (Dense)             (None, 10)                1010      \n",
            "=================================================================\n",
            "Total params: 266,610\n",
            "Trainable params: 266,610\n",
            "Non-trainable params: 0\n",
            "_________________________________________________________________\n"
          ],
          "name": "stdout"
        }
      ]
    },
    {
      "cell_type": "code",
      "metadata": {
        "id": "VNHFMasNxoXN",
        "colab_type": "code",
        "outputId": "8ee0886e-816f-4fcf-9472-74fd3095aa52",
        "colab": {
          "base_uri": "https://localhost:8080/",
          "height": 748
        }
      },
      "source": [
        "# Training the model:\n",
        "batch_size = 128\n",
        "epochs = 20\n",
        "\n",
        "# First setup few things (like which function will be used for optimization)\n",
        "# ps: some of these are not the best - but they were chosen for illustration to match what we studied about.\n",
        "model.compile(loss='categorical_crossentropy',\n",
        "              optimizer=keras.optimizers.SGD(), # RMSprop()\n",
        "              metrics=['accuracy'])\n",
        "\n",
        "# And then start up the training:\n",
        "history = model.fit(x_train, y_train,\n",
        "                    batch_size=batch_size,\n",
        "                    epochs=epochs,\n",
        "                    verbose=1,\n",
        "                    validation_data=(x_test, y_test))\n",
        "score = model.evaluate(x_test, y_test, verbose=0)\n",
        "print('Test loss:', score[0])\n",
        "print('Test accuracy:', score[1])"
      ],
      "execution_count": 0,
      "outputs": [
        {
          "output_type": "stream",
          "text": [
            "Train on 60000 samples, validate on 10000 samples\n",
            "Epoch 1/20\n",
            "60000/60000 [==============================] - 3s 48us/step - loss: 1.0469 - accuracy: 0.7484 - val_loss: 0.5109 - val_accuracy: 0.8753\n",
            "Epoch 2/20\n",
            "60000/60000 [==============================] - 3s 48us/step - loss: 0.4443 - accuracy: 0.8837 - val_loss: 0.3700 - val_accuracy: 0.9000\n",
            "Epoch 3/20\n",
            "60000/60000 [==============================] - 3s 48us/step - loss: 0.3579 - accuracy: 0.9010 - val_loss: 0.3189 - val_accuracy: 0.9120\n",
            "Epoch 4/20\n",
            "60000/60000 [==============================] - 3s 47us/step - loss: 0.3175 - accuracy: 0.9108 - val_loss: 0.2912 - val_accuracy: 0.9188\n",
            "Epoch 5/20\n",
            "60000/60000 [==============================] - 3s 47us/step - loss: 0.2911 - accuracy: 0.9182 - val_loss: 0.2695 - val_accuracy: 0.9267\n",
            "Epoch 6/20\n",
            "60000/60000 [==============================] - 3s 47us/step - loss: 0.2710 - accuracy: 0.9230 - val_loss: 0.2542 - val_accuracy: 0.9302\n",
            "Epoch 7/20\n",
            "60000/60000 [==============================] - 3s 47us/step - loss: 0.2550 - accuracy: 0.9282 - val_loss: 0.2408 - val_accuracy: 0.9337\n",
            "Epoch 8/20\n",
            "60000/60000 [==============================] - 3s 47us/step - loss: 0.2412 - accuracy: 0.9318 - val_loss: 0.2269 - val_accuracy: 0.9367\n",
            "Epoch 9/20\n",
            "60000/60000 [==============================] - 3s 48us/step - loss: 0.2291 - accuracy: 0.9350 - val_loss: 0.2182 - val_accuracy: 0.9388\n",
            "Epoch 10/20\n",
            "60000/60000 [==============================] - 3s 48us/step - loss: 0.2188 - accuracy: 0.9381 - val_loss: 0.2081 - val_accuracy: 0.9417\n",
            "Epoch 11/20\n",
            "60000/60000 [==============================] - 3s 47us/step - loss: 0.2090 - accuracy: 0.9409 - val_loss: 0.2010 - val_accuracy: 0.9439\n",
            "Epoch 12/20\n",
            "60000/60000 [==============================] - 3s 47us/step - loss: 0.2005 - accuracy: 0.9429 - val_loss: 0.1945 - val_accuracy: 0.9448\n",
            "Epoch 13/20\n",
            "60000/60000 [==============================] - 3s 48us/step - loss: 0.1927 - accuracy: 0.9450 - val_loss: 0.1867 - val_accuracy: 0.9469\n",
            "Epoch 14/20\n",
            "60000/60000 [==============================] - 3s 48us/step - loss: 0.1853 - accuracy: 0.9473 - val_loss: 0.1809 - val_accuracy: 0.9471\n",
            "Epoch 15/20\n",
            "60000/60000 [==============================] - 3s 48us/step - loss: 0.1789 - accuracy: 0.9491 - val_loss: 0.1759 - val_accuracy: 0.9497\n",
            "Epoch 16/20\n",
            "60000/60000 [==============================] - 3s 48us/step - loss: 0.1727 - accuracy: 0.9506 - val_loss: 0.1701 - val_accuracy: 0.9516\n",
            "Epoch 17/20\n",
            "60000/60000 [==============================] - 3s 48us/step - loss: 0.1668 - accuracy: 0.9528 - val_loss: 0.1652 - val_accuracy: 0.9522\n",
            "Epoch 18/20\n",
            "60000/60000 [==============================] - 3s 47us/step - loss: 0.1614 - accuracy: 0.9544 - val_loss: 0.1617 - val_accuracy: 0.9535\n",
            "Epoch 19/20\n",
            "60000/60000 [==============================] - 3s 48us/step - loss: 0.1562 - accuracy: 0.9561 - val_loss: 0.1566 - val_accuracy: 0.9550\n",
            "Epoch 20/20\n",
            "60000/60000 [==============================] - 3s 48us/step - loss: 0.1514 - accuracy: 0.9576 - val_loss: 0.1543 - val_accuracy: 0.9538\n",
            "Test loss: 0.15426905433759094\n",
            "Test accuracy: 0.9538000226020813\n"
          ],
          "name": "stdout"
        }
      ]
    },
    {
      "cell_type": "code",
      "metadata": {
        "id": "4p4NBqSzwsxv",
        "colab_type": "code",
        "outputId": "951690ef-f2f9-423e-9561-7317b036c4b7",
        "colab": {
          "base_uri": "https://localhost:8080/",
          "height": 282
        }
      },
      "source": [
        "# Great! ... Wait ... so what happened?\n",
        "\n",
        "# Here we can visualize the progess of the error (loss) going down and the accuracy going up!\n",
        "\n",
        "loss = history.history[\"loss\"]\n",
        "accuracy = history.history[\"accuracy\"]\n",
        "val_loss = history.history[\"val_loss\"]\n",
        "val_accuracy = history.history[\"val_accuracy\"]\n",
        "\n",
        "epochs_array = list(range(epochs))\n",
        "plt.plot(epochs_array, loss, label=\"loss\")\n",
        "plt.plot(epochs_array, accuracy, label=\"accuracy\")\n",
        "plt.plot(epochs_array, val_loss, label=\"val_loss\")\n",
        "plt.plot(epochs_array, val_accuracy, label=\"val_accuracy\")\n",
        "plt.legend()\n",
        "\n",
        "print(\"Plot:\")"
      ],
      "execution_count": 0,
      "outputs": [
        {
          "output_type": "stream",
          "text": [
            "Plot:\n"
          ],
          "name": "stdout"
        },
        {
          "output_type": "display_data",
          "data": {
            "image/png": "[encoded data removed]",
            "text/plain": [
              "<Figure size 432x288 with 1 Axes>"
            ]
          },
          "metadata": {
            "tags": [],
            "needs_background": "light"
          }
        }
      ]
    }
  ]
}
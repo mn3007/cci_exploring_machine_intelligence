{
  "nbformat": 4,
  "nbformat_minor": 0,
  "metadata": {
    "colab": {
      "name": "ml01_linear_regression.ipynb",
      "provenance": [],
      "collapsed_sections": [
        "W0yObWL0y9QR"
      ]
    },
    "kernelspec": {
      "name": "python3",
      "display_name": "Python 3"
    }
  },
  "cells": [
    {
      "cell_type": "markdown",
      "metadata": {
        "id": "7m5ILWqUfdJP",
        "colab_type": "text"
      },
      "source": [
        "# Linear regression\n",
        "\n",
        "\"Linear regression attempts to model the relationship between two variables by fitting a linear equation to observed data.\" [[link](http://www.stat.yale.edu/Courses/1997-98/101/linreg.htm)]\n",
        "\n",
        "![Linear regression example](https://upload.wikimedia.org/wikipedia/commons/thumb/3/3a/Linear_regression.svg/320px-Linear_regression.svg.png)"
      ]
    },
    {
      "cell_type": "markdown",
      "metadata": {
        "id": "BuQ0fm_aC0MX",
        "colab_type": "text"
      },
      "source": [
        "# Starter code"
      ]
    },
    {
      "cell_type": "markdown",
      "metadata": {
        "id": "DBZP2t1PDFbM",
        "colab_type": "text"
      },
      "source": [
        "imports:"
      ]
    },
    {
      "cell_type": "code",
      "metadata": {
        "id": "VMiMwjMFC36_",
        "colab_type": "code",
        "colab": {}
      },
      "source": [
        "# Imports for the libraries we will use ...\n",
        "from sklearn import datasets, linear_model\n",
        "from sklearn.metrics import mean_squared_error\n",
        "import matplotlib.pyplot as plt\n",
        "import numpy as np"
      ],
      "execution_count": 0,
      "outputs": []
    },
    {
      "cell_type": "code",
      "metadata": {
        "id": "f4KvBgMMkT13",
        "colab_type": "code",
        "colab": {
          "base_uri": "https://localhost:8080/",
          "height": 51
        },
        "outputId": "dc26df89-a17f-4e6c-8097-ee053e4dd9b1"
      },
      "source": [
        "# data sample from weights vs. heights statistics\n",
        "x_weights = [    42,     47,     52,     57,     62,     67,     72,     77,     82,     87]\n",
        "y_heights = [151.62, 161.79, 159.25, 166.31, 166.46, 166.24, 174.96, 179.44, 180.51, 186.97]\n",
        "\n",
        "x_weights = np.asarray(x_weights)\n",
        "y_heights = np.asarray(y_heights)\n",
        "\n",
        "print(x_weights.shape)\n",
        "print(y_heights.shape)\n",
        "\n",
        "dataset_X = x_weights\n",
        "dataset_Y = y_heights"
      ],
      "execution_count": 3,
      "outputs": [
        {
          "output_type": "stream",
          "text": [
            "(10,)\n",
            "(10,)\n"
          ],
          "name": "stdout"
        }
      ]
    },
    {
      "cell_type": "code",
      "metadata": {
        "id": "8XqJ0gNpkd3j",
        "colab_type": "code",
        "colab": {
          "base_uri": "https://localhost:8080/",
          "height": 265
        },
        "outputId": "16fb1996-6e4b-4940-96c2-5ef87bb3a7be"
      },
      "source": [
        "# plotting with matplotlib\n",
        "# scatter gives us points / plot would give us lines\n",
        "plt.scatter(x_weights, y_heights, color=\"blue\")\n",
        "plt.show()"
      ],
      "execution_count": 8,
      "outputs": [
        {
          "output_type": "display_data",
          "data": {
            "image/png": "[encoded data removed]",
            "text/plain": [
              "<Figure size 432x288 with 1 Axes>"
            ]
          },
          "metadata": {
            "tags": [],
            "needs_background": "light"
          }
        }
      ]
    },
    {
      "cell_type": "code",
      "metadata": {
        "id": "tgx3eyXwktzJ",
        "colab_type": "code",
        "colab": {}
      },
      "source": [
        "### Here we will continue in the class ...\n",
        "\n",
        "\n",
        "# Let's try plotting a line\n",
        "\n",
        "# Let's change it's parameters (a and b) and figure out which are the best ...\n",
        "\n",
        "# Can we do this automatically ??? (Spoiler: Yes :D)\n",
        "\n",
        "\n"
      ],
      "execution_count": 0,
      "outputs": []
    },
    {
      "cell_type": "markdown",
      "metadata": {
        "id": "U5PCLMSpC4Zp",
        "colab_type": "text"
      },
      "source": [
        "# Final code"
      ]
    },
    {
      "cell_type": "markdown",
      "metadata": {
        "id": "W0yObWL0y9QR",
        "colab_type": "text"
      },
      "source": [
        "## Data selection:"
      ]
    },
    {
      "cell_type": "code",
      "metadata": {
        "id": "LAO6Z5mMfVif",
        "colab_type": "code",
        "outputId": "d0dd7acb-ba3b-4473-b80f-877c9f459d34",
        "colab": {
          "base_uri": "https://localhost:8080/",
          "height": 329
        }
      },
      "source": [
        "# Getting data\n",
        "from sklearn import datasets\n",
        "\n",
        "# Load the diabetes dataset\n",
        "diabetes_X, diabetes_Y = datasets.load_diabetes(return_X_y=True)\n",
        "diabetes_X = diabetes_X[:,2]\n",
        "\n",
        "print(diabetes_X.shape) # third parameter is \"Body mass index\"\n",
        "print(diabetes_Y.shape) # quantitative measure of disease progression one year after\n",
        "\n",
        "dataset_X = diabetes_X\n",
        "dataset_Y = diabetes_Y\n",
        "\n",
        "import matplotlib.pyplot as plt\n",
        "\n",
        "plt.scatter(dataset_X, dataset_Y)  \n",
        "plt.title('Diabetes plot')  \n",
        "plt.xlabel('Body mass index')\n",
        "plt.ylabel('Diabetes progression')\n",
        "plt.show()"
      ],
      "execution_count": 0,
      "outputs": [
        {
          "output_type": "stream",
          "text": [
            "(442,)\n",
            "(442,)\n"
          ],
          "name": "stdout"
        },
        {
          "output_type": "display_data",
          "data": {
            "image/png": "[encoded data removed]",
            "text/plain": [
              "<Figure size 432x288 with 1 Axes>"
            ]
          },
          "metadata": {
            "tags": [],
            "needs_background": "light"
          }
        }
      ]
    },
    {
      "cell_type": "markdown",
      "metadata": {
        "id": "7RYQvHBkzBJF",
        "colab_type": "text"
      },
      "source": [
        "## Analysis"
      ]
    },
    {
      "cell_type": "code",
      "metadata": {
        "id": "Y-tB2x22jE72",
        "colab_type": "code",
        "colab": {}
      },
      "source": [
        "# Insert a line\n",
        "# line as a model can be described as: y = ax + b,\n",
        "# where we are looking for parameters a and b"
      ],
      "execution_count": 0,
      "outputs": []
    },
    {
      "cell_type": "code",
      "metadata": {
        "id": "ai9yHr2-jiKg",
        "colab_type": "code",
        "outputId": "180a7076-e1fd-444c-d3a5-17de00fd64e2",
        "colab": {
          "base_uri": "https://localhost:8080/",
          "height": 329
        }
      },
      "source": [
        "import numpy as np\n",
        "\n",
        "a = 1\n",
        "b = 1\n",
        "\n",
        "def line_function(x):\n",
        "    global a, b\n",
        "    y = a*x + b\n",
        "    return y\n",
        "\n",
        "\n",
        "sample_x = np.asarray(range(0,100))\n",
        "sample_y = np.asarray(list( map(line_function, sample_x) ))\n",
        "\n",
        "print(sample_x.shape)\n",
        "print(sample_y.shape)\n",
        "\n",
        "plt.plot(sample_x, sample_y, color=\"red\")\n",
        "plt.title('Plot')  \n",
        "plt.xlabel('x')\n",
        "plt.ylabel('y')\n",
        "plt.axis('equal')\n",
        "plt.show()"
      ],
      "execution_count": 4,
      "outputs": [
        {
          "output_type": "stream",
          "text": [
            "(100,)\n",
            "(100,)\n"
          ],
          "name": "stdout"
        },
        {
          "output_type": "display_data",
          "data": {
            "image/png": "[encoded data removed]",
            "text/plain": [
              "<Figure size 432x288 with 1 Axes>"
            ]
          },
          "metadata": {
            "tags": [],
            "needs_background": "light"
          }
        }
      ]
    },
    {
      "cell_type": "code",
      "metadata": {
        "id": "ha3ptcFslbmZ",
        "colab_type": "code",
        "outputId": "4374cab7-c5c1-4b66-fe35-7ff8f0f04c40",
        "colab": {
          "base_uri": "https://localhost:8080/",
          "height": 295
        }
      },
      "source": [
        "# Together, manually trying it:\n",
        "\n",
        "a = 0\n",
        "b = 0\n",
        "\n",
        "from_x = min(dataset_X)\n",
        "to_x = max(dataset_X)\n",
        "sample_x = np.asarray([from_x, to_x])\n",
        "sample_y = np.asarray(list( map(line_function, sample_x) ))\n",
        "\n",
        "\n",
        "plt.plot(sample_x, sample_y, color=\"red\")\n",
        "plt.scatter(dataset_X, dataset_Y)  \n",
        "plt.title('Plot')  \n",
        "plt.xlabel('x')\n",
        "plt.ylabel('y')\n",
        "plt.show()"
      ],
      "execution_count": 5,
      "outputs": [
        {
          "output_type": "display_data",
          "data": {
            "image/png": "[encoded data removed]",
            "text/plain": [
              "<Figure size 432x288 with 1 Axes>"
            ]
          },
          "metadata": {
            "tags": [],
            "needs_background": "light"
          }
        }
      ]
    },
    {
      "cell_type": "code",
      "metadata": {
        "id": "FbajnFvzmfIK",
        "colab_type": "code",
        "colab": {}
      },
      "source": [
        "# How can we measure \"how bad\" vs \"how well\" we are doing?\n",
        "# Metric = Square of the distance between our suggested line and each data point\n",
        "# This is called Least-Squares Regression\n",
        "\n",
        "def squared_distance_error(a, b, point):\n",
        "    # Line y=a*x+b is given by the parameters a and b\n",
        "    # Point is given by two parameters (x_point, y_point)\n",
        "\n",
        "    x_point, y_point = point\n",
        "    line_y = a*x_point + b\n",
        "    distance = line_y - y_point # distance between point and line\n",
        "    squared_distance = distance * distance\n",
        "    return squared_distance"
      ],
      "execution_count": 0,
      "outputs": []
    },
    {
      "cell_type": "code",
      "metadata": {
        "id": "nfV2oo6Tm98a",
        "colab_type": "code",
        "outputId": "7c065712-0e9e-444e-c2c8-cc782e9ab099",
        "colab": {
          "base_uri": "https://localhost:8080/",
          "height": 34
        }
      },
      "source": [
        "# We care about the mean over all the points\n",
        "\n",
        "a = 0\n",
        "b = 0\n",
        "\n",
        "accumulated_error = 0\n",
        "\n",
        "number_of_points = len(dataset_X)\n",
        "for index in range(number_of_points):\n",
        "    point = (dataset_X[index], dataset_Y[index])\n",
        "    #print(point)\n",
        "    error = squared_distance_error(a, b, point)\n",
        "    accumulated_error += error\n",
        "\n",
        "accumulated_error = accumulated_error / float(number_of_points)\n",
        "\n",
        "print(\"The setting of a=\"+str(a)+\" and b=\"+str(b)+\" has the following accumulated least-squares error:\", accumulated_error)\n"
      ],
      "execution_count": 0,
      "outputs": [
        {
          "output_type": "stream",
          "text": [
            "The setting of a=0 and b=0 has the following accumulated least-squares error: 29074.481900452487\n"
          ],
          "name": "stdout"
        }
      ]
    },
    {
      "cell_type": "code",
      "metadata": {
        "id": "4ezAJfXKoIvf",
        "colab_type": "code",
        "colab": {}
      },
      "source": [
        "def evaluate_parameters(a,b):\n",
        "    accumulated_error = 0\n",
        "\n",
        "    number_of_points = len(dataset_X)\n",
        "    for index in range(number_of_points):\n",
        "        point = (dataset_X[index], dataset_Y[index])\n",
        "        #print(point)\n",
        "        error = squared_distance_error(a, b, point)\n",
        "        accumulated_error += error\n",
        "\n",
        "    accumulated_error = accumulated_error / float(number_of_points)\n",
        "\n",
        "    return accumulated_error"
      ],
      "execution_count": 0,
      "outputs": []
    },
    {
      "cell_type": "code",
      "metadata": {
        "id": "C3NEgNunoQw_",
        "colab_type": "code",
        "colab": {}
      },
      "source": [
        "# Let's brute force this - try all the possible values in some predefined range\n",
        "b = 0 # For simplicity let's fix the b\n",
        "errors_over_a = []\n",
        "for a in range(-2000, 2000):\n",
        "    e = evaluate_parameters(a,b)\n",
        "    errors_over_a.append(e)\n",
        "\n",
        "errors_over_a = np.asarray(errors_over_a) # numpy array has some nice functions\n",
        "\n",
        "# We could of course brute force over possible values for b too. Also we could try floats instead of integers only.\n",
        "# (But there is a better way!)"
      ],
      "execution_count": 0,
      "outputs": []
    },
    {
      "cell_type": "code",
      "metadata": {
        "id": "vWsj30NWoxnk",
        "colab_type": "code",
        "outputId": "6613b20a-5c68-40f1-c831-16584c34b23e",
        "colab": {
          "base_uri": "https://localhost:8080/",
          "height": 51
        }
      },
      "source": [
        "print(\"We tested\", len(errors_over_a), \"possibilities\")\n",
        "\n",
        "minimal_error = np.min(errors_over_a)\n",
        "minimal_error_index = np.argmin(errors_over_a)\n",
        "best_a = list(range(-2000, 2000))[minimal_error_index]\n",
        "\n",
        "print(\"Best achieved error is\", minimal_error, \"at index\", minimal_error_index, \"(which means a=\"+str(best_a)+\")\")"
      ],
      "execution_count": 0,
      "outputs": [
        {
          "output_type": "stream",
          "text": [
            "We tested 4000 possibilities\n",
            "Best achieved error is 27035.054017627153 at index 2949 (which means a=949)\n"
          ],
          "name": "stdout"
        }
      ]
    },
    {
      "cell_type": "code",
      "metadata": {
        "id": "f7HeH6FTpc9v",
        "colab_type": "code",
        "outputId": "b1f2a6f8-ee6b-43c2-8526-64b3342a6466",
        "colab": {
          "base_uri": "https://localhost:8080/",
          "height": 295
        }
      },
      "source": [
        "# Let's see it:\n",
        "\n",
        "a = 800\n",
        "b = 0\n",
        "\n",
        "manual_sample_x = np.asarray([from_x, to_x])\n",
        "manual_sample_y = np.asarray(list( map(line_function, sample_x) ))\n",
        "\n",
        "a = best_a\n",
        "b = 0\n",
        "\n",
        "automatic_sample_x = np.asarray([from_x, to_x])\n",
        "automatic_sample_y = np.asarray(list( map(line_function, sample_x) ))\n",
        "\n",
        "\n",
        "plt.plot(manual_sample_x, manual_sample_y, color=\"red\")\n",
        "plt.plot(automatic_sample_x, automatic_sample_y, color=\"green\")\n",
        "plt.scatter(dataset_X, dataset_Y)  \n",
        "plt.title('Plot')  \n",
        "plt.xlabel('x')\n",
        "plt.ylabel('y')\n",
        "plt.show()"
      ],
      "execution_count": 0,
      "outputs": [
        {
          "output_type": "display_data",
          "data": {
            "image/png": "[encoded data removed]",
            "text/plain": [
              "<Figure size 432x288 with 1 Axes>"
            ]
          },
          "metadata": {
            "tags": [],
            "needs_background": "light"
          }
        }
      ]
    },
    {
      "cell_type": "code",
      "metadata": {
        "id": "aNgU0MEnp1CU",
        "colab_type": "code",
        "colab": {}
      },
      "source": [
        "# We can find the optimal solution for this problem (\"optimal\" = \"minimizes the defined least-squares error\") mathematically - more details and also derivation here https://www.amherst.edu/system/files/media/1287/SLR_Leastsquares.pdf"
      ],
      "execution_count": 0,
      "outputs": []
    },
    {
      "cell_type": "code",
      "metadata": {
        "id": "RXtJeCz2pwpw",
        "colab_type": "code",
        "outputId": "75a32516-100c-4622-951d-12bc09454f16",
        "colab": {
          "base_uri": "https://localhost:8080/",
          "height": 68
        }
      },
      "source": [
        "# Using some python libraries to do all the heavy lifting for us!\n",
        "\n",
        "from sklearn import linear_model\n",
        "from sklearn.metrics import mean_squared_error\n",
        "\n",
        "model = linear_model.LinearRegression()\n",
        "\n",
        "model.fit(dataset_X.reshape(-1, 1), dataset_Y)\n",
        "\n",
        "# The coefficients\n",
        "sklearn_best_a = model.coef_\n",
        "sklearn_best_b = model.intercept_\n",
        "print('intercept:', sklearn_best_b)\n",
        "print('slope:', sklearn_best_a)\n",
        "\n",
        "# The mean squared error\n",
        "print('Mean squared error: %.2f' % mean_squared_error(dataset_X, dataset_Y))\n"
      ],
      "execution_count": 0,
      "outputs": [
        {
          "output_type": "stream",
          "text": [
            "intercept: 152.1334841628967\n",
            "slope: [949.43526038]\n",
            "Mean squared error: 29070.19\n"
          ],
          "name": "stdout"
        }
      ]
    },
    {
      "cell_type": "code",
      "metadata": {
        "id": "KqUUI-StrlsL",
        "colab_type": "code",
        "outputId": "7cdc9c35-8703-4361-d735-558f204d8a89",
        "colab": {
          "base_uri": "https://localhost:8080/",
          "height": 295
        }
      },
      "source": [
        "a = sklearn_best_a\n",
        "b = sklearn_best_b\n",
        "\n",
        "sklearn_sample_x = np.asarray([from_x, to_x])\n",
        "sklearn_sample_y = np.asarray(list( map(line_function, sample_x) ))\n",
        "\n",
        "plt.plot(automatic_sample_x, automatic_sample_y, color=\"green\")\n",
        "plt.plot(sklearn_sample_x, sklearn_sample_y, color=\"red\")\n",
        "plt.scatter(dataset_X, dataset_Y)  \n",
        "plt.title('Plot')  \n",
        "plt.xlabel('x')\n",
        "plt.ylabel('y')\n",
        "plt.show()"
      ],
      "execution_count": 0,
      "outputs": [
        {
          "output_type": "display_data",
          "data": {
            "image/png": "[encoded data removed]",
            "text/plain": [
              "<Figure size 432x288 with 1 Axes>"
            ]
          },
          "metadata": {
            "tags": [],
            "needs_background": "light"
          }
        }
      ]
    },
    {
      "cell_type": "markdown",
      "metadata": {
        "id": "G3pZvb5opv_5",
        "colab_type": "text"
      },
      "source": [
        "## Using the trained model\n",
        "\n",
        "Having found the best possible parameters for the model (a,b - the slope and intercept), we can consider this as training...\n",
        "\n",
        "Using the trained model, we can ask it somewhere (value x) we don't know what the answer (get it as a value y)."
      ]
    },
    {
      "cell_type": "code",
      "metadata": {
        "id": "shf7_Be6w2nq",
        "colab_type": "code",
        "outputId": "b06cb6e4-245e-4f7c-fb2a-679c1ab0f873",
        "colab": {
          "base_uri": "https://localhost:8080/",
          "height": 34
        }
      },
      "source": [
        "a = sklearn_best_a\n",
        "b = sklearn_best_b\n",
        "\n",
        "x_query = 0\n",
        "y_prediction = line_function(x_query)\n",
        "\n",
        "print(\"At x=\"+str(x_query)+\" the y is predicted as \"+str(y_prediction))"
      ],
      "execution_count": 0,
      "outputs": [
        {
          "output_type": "stream",
          "text": [
            "At x=0 the y is predicted as [152.13348416]\n"
          ],
          "name": "stdout"
        }
      ]
    }
  ]
}
{
  "nbformat": 4,
  "nbformat_minor": 0,
  "metadata": {
    "colab": {
      "name": "2_Train_Progressive_GAN.ipynb",
      "provenance": [],
      "collapsed_sections": []
    },
    "kernelspec": {
      "name": "python3",
      "display_name": "Python 3"
    },
    "accelerator": "GPU"
  },
  "cells": [
    {
      "cell_type": "markdown",
      "metadata": {
        "id": "ZZi8HPTBLEmr",
        "colab_type": "text"
      },
      "source": [
        "# Training Progressive Growing GAN\n",
        "\n",
        "Today we will show some basic commands to use Progressive GAN."
      ]
    },
    {
      "cell_type": "markdown",
      "metadata": {
        "id": "15VlbvjjLHB6",
        "colab_type": "text"
      },
      "source": [
        "## 0 Prepare libraries"
      ]
    },
    {
      "cell_type": "code",
      "metadata": {
        "id": "oxXawwJ6LIgO",
        "colab_type": "code",
        "outputId": "e4f6d5ee-ea5c-4c77-b34d-86a85f5cde8d",
        "colab": {
          "base_uri": "https://localhost:8080/",
          "height": 463
        }
      },
      "source": [
        "%tensorflow_version 1.x\n",
        "\n",
        "!pip install -U -q PyDrive\n",
        "!git clone https://github.com/tkarras/progressive_growing_of_gans.git\n",
        "!pip install numpy==1.16\n",
        "!pip install tqdm\n",
        "%cd progressive_growing_of_gans"
      ],
      "execution_count": 0,
      "outputs": [
        {
          "output_type": "stream",
          "text": [
            "TensorFlow 1.x selected.\n",
            "Cloning into 'progressive_growing_of_gans'...\n",
            "remote: Enumerating objects: 155, done.\u001b[K\n",
            "remote: Total 155 (delta 0), reused 0 (delta 0), pack-reused 155\u001b[K\n",
            "Receiving objects: 100% (155/155), 350.61 KiB | 1.11 MiB/s, done.\n",
            "Resolving deltas: 100% (79/79), done.\n",
            "Collecting numpy==1.16\n",
            "\u001b[?25l  Downloading https://files.pythonhosted.org/packages/7b/74/54c5f9bb9bd4dae27a61ec1b39076a39d359b3fb7ba15da79ef23858a9d8/numpy-1.16.0-cp36-cp36m-manylinux1_x86_64.whl (17.3MB)\n",
            "\u001b[K     |████████████████████████████████| 17.3MB 219kB/s \n",
            "\u001b[31mERROR: tensorflow 1.15.2 has requirement gast==0.2.2, but you'll have gast 0.3.3 which is incompatible.\u001b[0m\n",
            "\u001b[31mERROR: umap-learn 0.4.3 has requirement numpy>=1.17, but you'll have numpy 1.16.0 which is incompatible.\u001b[0m\n",
            "\u001b[31mERROR: datascience 0.10.6 has requirement folium==0.2.1, but you'll have folium 0.8.3 which is incompatible.\u001b[0m\n",
            "\u001b[31mERROR: albumentations 0.1.12 has requirement imgaug<0.2.7,>=0.2.5, but you'll have imgaug 0.2.9 which is incompatible.\u001b[0m\n",
            "\u001b[?25hInstalling collected packages: numpy\n",
            "  Found existing installation: numpy 1.18.4\n",
            "    Uninstalling numpy-1.18.4:\n",
            "      Successfully uninstalled numpy-1.18.4\n",
            "Successfully installed numpy-1.16.0\n"
          ],
          "name": "stdout"
        },
        {
          "output_type": "display_data",
          "data": {
            "application/vnd.colab-display-data+json": {
              "pip_warning": {
                "packages": [
                  "numpy"
                ]
              }
            }
          },
          "metadata": {
            "tags": []
          }
        },
        {
          "output_type": "stream",
          "text": [
            "Requirement already satisfied: tqdm in /usr/local/lib/python3.6/dist-packages (4.41.1)\n",
            "/content/progressive_growing_of_gans\n"
          ],
          "name": "stdout"
        }
      ]
    },
    {
      "cell_type": "code",
      "metadata": {
        "id": "QWRCa7pPN0C9",
        "colab_type": "code",
        "outputId": "d0eff389-ca39-4eae-f53c-6579b62af615",
        "colab": {
          "base_uri": "https://localhost:8080/",
          "height": 34
        }
      },
      "source": [
        "import tensorflow\n",
        "print(tensorflow.__version__)"
      ],
      "execution_count": 0,
      "outputs": [
        {
          "output_type": "stream",
          "text": [
            "1.15.2\n"
          ],
          "name": "stdout"
        }
      ]
    },
    {
      "cell_type": "code",
      "metadata": {
        "id": "ZBKs6xf9LlKu",
        "colab_type": "code",
        "colab": {}
      },
      "source": [
        "from pydrive.auth import GoogleAuth\n",
        "from pydrive.drive import GoogleDrive\n",
        "from google.colab import auth\n",
        "from oauth2client.client import GoogleCredentials\n",
        "# Authenticate and create the PyDrive client.\n",
        "# This only needs to be done once per notebook.\n",
        "auth.authenticate_user()\n",
        "gauth = GoogleAuth()\n",
        "gauth.credentials = GoogleCredentials.get_application_default()\n",
        "drive = GoogleDrive(gauth)\n",
        "\n",
        "file_id = '188K19ucknC6wg1R6jbuPEhTq9zoufOx4' # karras2018iclr-celebahq-1024x1024.pkl \n",
        "downloaded = drive.CreateFile({'id': file_id})\n",
        "downloaded.GetContentFile('karras2018iclr-celebahq-1024x1024.pkl')\n"
      ],
      "execution_count": 0,
      "outputs": []
    },
    {
      "cell_type": "code",
      "metadata": {
        "id": "SFpyEQKJN5EC",
        "colab_type": "code",
        "outputId": "d65adbf2-bd39-45b3-dcf2-21256d249359",
        "colab": {
          "base_uri": "https://localhost:8080/",
          "height": 158
        }
      },
      "source": [
        "!ls"
      ],
      "execution_count": 0,
      "outputs": [
        {
          "output_type": "stream",
          "text": [
            "config.py\t\t\t       misc.py\n",
            "dataset.py\t\t\t       networks.py\n",
            "dataset_tool.py\t\t\t       README.md\n",
            "karras2018iclr-celebahq-1024x1024.pkl  representative_image_512x256.png\n",
            "legacy.py\t\t\t       requirements-pip.txt\n",
            "LICENSE.txt\t\t\t       tfutil.py\n",
            "loss.py\t\t\t\t       train.py\n",
            "metrics\t\t\t\t       util_scripts.py\n"
          ],
          "name": "stdout"
        }
      ]
    },
    {
      "cell_type": "markdown",
      "metadata": {
        "id": "FILl6Ld_Sga0",
        "colab_type": "text"
      },
      "source": [
        "## 1 Dataset creation / download\n",
        "\n",
        "We will first have to re-cook the input image data into their own dataset file representation."
      ]
    },
    {
      "cell_type": "code",
      "metadata": {
        "id": "O4m9eSaFQV7o",
        "colab_type": "code",
        "colab": {}
      },
      "source": [
        "!mkdir datasets"
      ],
      "execution_count": 0,
      "outputs": []
    },
    {
      "cell_type": "code",
      "metadata": {
        "id": "Zxvl-mKgPZd1",
        "colab_type": "code",
        "outputId": "de54cb1a-230b-4404-e0d2-8614d2f84179",
        "colab": {
          "base_uri": "https://localhost:8080/",
          "height": 175
        }
      },
      "source": [
        "!ls"
      ],
      "execution_count": 0,
      "outputs": [
        {
          "output_type": "stream",
          "text": [
            "config.py\t\t\t       misc.py\n",
            "dataset.py\t\t\t       networks.py\n",
            "datasets\t\t\t       README.md\n",
            "dataset_tool.py\t\t\t       representative_image_512x256.png\n",
            "karras2018iclr-celebahq-1024x1024.pkl  requirements-pip.txt\n",
            "legacy.py\t\t\t       tfutil.py\n",
            "LICENSE.txt\t\t\t       train.py\n",
            "loss.py\t\t\t\t       util_scripts.py\n",
            "metrics\n"
          ],
          "name": "stdout"
        }
      ]
    },
    {
      "cell_type": "code",
      "metadata": {
        "id": "e0gSoqHkPhj9",
        "colab_type": "code",
        "outputId": "5d281f4d-c92c-435c-cb2c-fa380141790a",
        "colab": {
          "base_uri": "https://localhost:8080/",
          "height": 263
        }
      },
      "source": [
        "# Custom data?\n",
        "\n",
        "#   tfrecord_dir       New dataset directory to be created\n",
        "#   image_dir          Directory containing the images\n",
        "!python dataset_tool.py create_from_images -h\n",
        "#!python dataset_tool.py create_from_images datasets/CustomDataset CustomDataSource"
      ],
      "execution_count": 0,
      "outputs": [
        {
          "output_type": "stream",
          "text": [
            "usage: dataset_tool.py create_from_images [-h] [--shuffle SHUFFLE]\n",
            "                                          tfrecord_dir image_dir\n",
            "\n",
            "Create dataset from a directory full of images.\n",
            "\n",
            "positional arguments:\n",
            "  tfrecord_dir       New dataset directory to be created\n",
            "  image_dir          Directory containing the images\n",
            "\n",
            "optional arguments:\n",
            "  -h, --help         show this help message and exit\n",
            "  --shuffle SHUFFLE  Randomize image order (default: 1)\n",
            "\n",
            "Example: dataset_tool.py create_from_images datasets/mydataset myimagedir\n"
          ],
          "name": "stdout"
        }
      ]
    },
    {
      "cell_type": "code",
      "metadata": {
        "id": "H5_Qe9X78BR2",
        "colab_type": "code",
        "outputId": "17ba3d8b-f871-42c6-fab6-75c87dfb983c",
        "colab": {
          "base_uri": "https://localhost:8080/",
          "height": 527
        }
      },
      "source": [
        "# Option A: Custom images - your own dataset:\n",
        "# [!!!] We will need to pre-process our dataset so that:\n",
        "# - it has square format of images\n",
        "# - all the images in it are the same\n",
        "# >>> Please refer to the other notebook for instructions!\n",
        "\n",
        "# DEMO: (download two prepared images and pretend it's a dataset!)\n",
        "!mkdir demo_images\n",
        "%cd demo_images\n",
        "!wget https://www.office.xerox.com/business-resources/1024x1024_wallpaper_tropical5.jpg\n",
        "!wget https://www.office.xerox.com/business-resources/1024x1024_wallpaper_tropical1.jpg\n",
        "%cd ..\n",
        "!ls demo_images -luah"
      ],
      "execution_count": 0,
      "outputs": [
        {
          "output_type": "stream",
          "text": [
            "/content/progressive_growing_of_gans/demo_images\n",
            "--2020-05-26 19:13:30--  https://www.office.xerox.com/business-resources/1024x1024_wallpaper_tropical5.jpg\n",
            "Resolving www.office.xerox.com (www.office.xerox.com)... 23.200.159.189, 23.200.159.158, 2600:1408:4800::17d9:817b, ...\n",
            "Connecting to www.office.xerox.com (www.office.xerox.com)|23.200.159.189|:443... connected.\n",
            "HTTP request sent, awaiting response... 200 OK\n",
            "Length: 355279 (347K) [image/jpeg]\n",
            "Saving to: ‘1024x1024_wallpaper_tropical5.jpg’\n",
            "\n",
            "1024x1024_wallpaper 100%[===================>] 346.95K  1.52MB/s    in 0.2s    \n",
            "\n",
            "2020-05-26 19:13:30 (1.52 MB/s) - ‘1024x1024_wallpaper_tropical5.jpg’ saved [355279/355279]\n",
            "\n",
            "--2020-05-26 19:13:31--  https://www.office.xerox.com/business-resources/1024x1024_wallpaper_tropical1.jpg\n",
            "Resolving www.office.xerox.com (www.office.xerox.com)... 23.200.159.158, 23.200.159.189, 2600:1408:4800::17d9:817b, ...\n",
            "Connecting to www.office.xerox.com (www.office.xerox.com)|23.200.159.158|:443... connected.\n",
            "HTTP request sent, awaiting response... 200 OK\n",
            "Length: 379703 (371K) [image/jpeg]\n",
            "Saving to: ‘1024x1024_wallpaper_tropical1.jpg’\n",
            "\n",
            "1024x1024_wallpaper 100%[===================>] 370.80K  1.83MB/s    in 0.2s    \n",
            "\n",
            "2020-05-26 19:13:32 (1.83 MB/s) - ‘1024x1024_wallpaper_tropical1.jpg’ saved [379703/379703]\n",
            "\n",
            "/content/progressive_growing_of_gans\n",
            "total 728K\n",
            "drwxr-xr-x 2 root root 4.0K May 26 19:13 .\n",
            "drwxr-xr-x 9 root root 4.0K May 26 19:08 ..\n",
            "-rw-r--r-- 1 root root 371K May 26 19:13 1024x1024_wallpaper_tropical1.jpg\n",
            "-rw-r--r-- 1 root root 347K May 26 19:13 1024x1024_wallpaper_tropical5.jpg\n"
          ],
          "name": "stdout"
        }
      ]
    },
    {
      "cell_type": "code",
      "metadata": {
        "id": "YYjznJnB9cfL",
        "colab_type": "code",
        "outputId": "85aa0d9b-0f47-4627-cd7a-63e296d1208c",
        "colab": {
          "base_uri": "https://localhost:8080/",
          "height": 195
        }
      },
      "source": [
        "!python dataset_tool.py create_from_images datasets/DemoDataset demo_images"
      ],
      "execution_count": 0,
      "outputs": [
        {
          "output_type": "stream",
          "text": [
            "Loading images from \"demo_images\"\n",
            "Creating dataset \"datasets/DemoDataset\"\n",
            "0 / 2\rWARNING:tensorflow:From dataset_tool.py:71: The name tf.python_io.TFRecordOptions is deprecated. Please use tf.io.TFRecordOptions instead.\n",
            "\n",
            "WARNING:tensorflow:From dataset_tool.py:71: The name tf.python_io.TFRecordCompressionType is deprecated. Please use tf.compat.v1.python_io.TFRecordCompressionType instead.\n",
            "\n",
            "WARNING:tensorflow:From dataset_tool.py:74: The name tf.python_io.TFRecordWriter is deprecated. Please use tf.io.TFRecordWriter instead.\n",
            "\n",
            "Added 2 images.\n"
          ],
          "name": "stdout"
        }
      ]
    },
    {
      "cell_type": "code",
      "metadata": {
        "id": "IbLIDCu--fDb",
        "colab_type": "code",
        "colab": {}
      },
      "source": [
        "#!python dataset_tool.py display datasets/DemoDataset"
      ],
      "execution_count": 0,
      "outputs": []
    },
    {
      "cell_type": "code",
      "metadata": {
        "id": "V2neNTF4RHgb",
        "colab_type": "code",
        "colab": {}
      },
      "source": [
        "# Option B: MNIST\n",
        "\n",
        "# Download MNIST as files!\n",
        "!mkdir mnist_download\n",
        "%cd mnist_download\n",
        "\n",
        "!wget https://gist.githubusercontent.com/goldsborough/6dd52a5e01ed73a642c1e772084bcd03/raw/690b3760c735c7b5f6f95e29ea0f80bf0896f81d/download_mnist.py\n",
        "\n",
        "!python download_mnist.py\n",
        "%cd .."
      ],
      "execution_count": 0,
      "outputs": []
    },
    {
      "cell_type": "code",
      "metadata": {
        "id": "hioNjhPKPa3z",
        "colab_type": "code",
        "colab": {}
      },
      "source": [
        "#!python dataset_tool.py create_mnist -h\n",
        "!python dataset_tool.py create_mnist datasets/mnist mnist_download"
      ],
      "execution_count": 0,
      "outputs": []
    },
    {
      "cell_type": "code",
      "metadata": {
        "id": "VWANtlmBr2nl",
        "colab_type": "code",
        "colab": {}
      },
      "source": [
        "# Option C: CIFAR-10\n",
        "\n",
        "# Download CIFAR-10 as files!\n",
        "!mkdir cifar10_download\n",
        "%cd cifar10_download\n",
        "!wget -c https://www.cs.toronto.edu/~kriz/cifar-10-python.tar.gz\n",
        "!tar -xzf cifar-10-python.tar.gz\n",
        "%cd .."
      ],
      "execution_count": 0,
      "outputs": []
    },
    {
      "cell_type": "code",
      "metadata": {
        "id": "HZNkY65WX66J",
        "colab_type": "code",
        "colab": {}
      },
      "source": [
        "#!python dataset_tool.py create_cifar10 -h\n",
        "# comment lines in dataset_tool.py\n",
        "\"\"\"\n",
        "    #assert images.shape == (50000, 3, 32, 32) and images.dtype == np.uint8\n",
        "    #assert labels.shape == (50000,) and labels.dtype == np.int32\n",
        "    #assert np.min(images) == 0 and np.max(images) == 255\n",
        "    #assert np.min(labels) == 0 and np.max(labels) == 9\n",
        "\"\"\"\n",
        "!python dataset_tool.py create_cifar10 datasets/cifar10 cifar10_download/cifar-10-batches-py"
      ],
      "execution_count": 0,
      "outputs": []
    },
    {
      "cell_type": "code",
      "metadata": {
        "id": "E_1OKH8w5UZO",
        "colab_type": "code",
        "colab": {}
      },
      "source": [
        "# Option D: Dataset on Kaggle\n",
        "\n",
        "# Check instructions at https://github.com/Kaggle/kaggle-api\n",
        "!pip install kaggle\n",
        "# etc"
      ],
      "execution_count": 0,
      "outputs": []
    },
    {
      "cell_type": "markdown",
      "metadata": {
        "id": "_MrSlgjbSk26",
        "colab_type": "text"
      },
      "source": [
        "## 2 Training\n",
        "\n",
        "And finally let's train!"
      ]
    },
    {
      "cell_type": "code",
      "metadata": {
        "id": "Nqim5oIzRmxT",
        "colab_type": "code",
        "colab": {}
      },
      "source": [
        "!cp config.py config.py.bak"
      ],
      "execution_count": 0,
      "outputs": []
    },
    {
      "cell_type": "code",
      "metadata": {
        "id": "_8Hvdwq1R0Qm",
        "colab_type": "code",
        "outputId": "a97c8524-983c-4ea7-a10a-2cb6f58b2741",
        "colab": {
          "base_uri": "https://localhost:8080/",
          "height": 70
        }
      },
      "source": [
        "# We have to start by editing the config.py file\n",
        "# Comment the basic \"desc += '-celebahq';\" line\n",
        "!cat config.py | grep celebahq\n",
        "# And un-comment the mnist line\n",
        "!cat config.py | grep mnist\n",
        "\n",
        "# add \n"
      ],
      "execution_count": 0,
      "outputs": [
        {
          "output_type": "stream",
          "text": [
            "desc += '-celebahq';            dataset = EasyDict(tfrecord_dir='celebahq'); train.mirror_augment = True\n",
            "#desc += '-mnist';               dataset = EasyDict(tfrecord_dir='mnist')\n",
            "#desc += '-mnistrgb';            dataset = EasyDict(tfrecord_dir='mnistrgb')\n"
          ],
          "name": "stdout"
        }
      ]
    },
    {
      "cell_type": "code",
      "metadata": {
        "id": "F27KIrD8TgNV",
        "colab_type": "code",
        "colab": {}
      },
      "source": [
        "# too loud?\n",
        "!TCMALLOC_LARGE_ALLOC_REPORT_THRESHOLD=1200000000"
      ],
      "execution_count": 0,
      "outputs": []
    },
    {
      "cell_type": "code",
      "metadata": {
        "id": "xXLgz11VReCN",
        "colab_type": "code",
        "outputId": "8e6365ca-302b-4a7b-da7d-84667538cfd7",
        "colab": {
          "base_uri": "https://localhost:8080/",
          "height": 1000
        }
      },
      "source": [
        "!python train.py"
      ],
      "execution_count": 0,
      "outputs": [
        {
          "output_type": "stream",
          "text": [
            "Initializing TensorFlow...\n",
            "WARNING:tensorflow:From /content/progressive_growing_of_gans/progressive_growing_of_gans/tfutil.py:56: The name tf.get_default_session is deprecated. Please use tf.compat.v1.get_default_session instead.\n",
            "\n",
            "WARNING:tensorflow:From /content/progressive_growing_of_gans/progressive_growing_of_gans/tfutil.py:57: The name tf.set_random_seed is deprecated. Please use tf.compat.v1.set_random_seed instead.\n",
            "\n",
            "WARNING:tensorflow:From /content/progressive_growing_of_gans/progressive_growing_of_gans/tfutil.py:65: The name tf.ConfigProto is deprecated. Please use tf.compat.v1.ConfigProto instead.\n",
            "\n",
            "WARNING:tensorflow:From /content/progressive_growing_of_gans/progressive_growing_of_gans/tfutil.py:72: The name tf.Session is deprecated. Please use tf.compat.v1.Session instead.\n",
            "\n",
            "2020-05-22 17:15:10.410447: W tensorflow/core/common_runtime/gpu/gpu_bfc_allocator.cc:39] Overriding allow_growth setting because the TF_FORCE_GPU_ALLOW_GROWTH environment variable is set. Original config value was 0.\n",
            "Running train.train_progressive_gan()...\n",
            "Streaming data using dataset.TFRecordDataset...\n",
            "WARNING:tensorflow:From /content/progressive_growing_of_gans/progressive_growing_of_gans/dataset.py:72: The name tf.python_io.TFRecordOptions is deprecated. Please use tf.io.TFRecordOptions instead.\n",
            "\n",
            "WARNING:tensorflow:From /content/progressive_growing_of_gans/progressive_growing_of_gans/dataset.py:72: The name tf.python_io.TFRecordCompressionType is deprecated. Please use tf.compat.v1.python_io.TFRecordCompressionType instead.\n",
            "\n",
            "WARNING:tensorflow:From /content/progressive_growing_of_gans/progressive_growing_of_gans/dataset.py:73: tf_record_iterator (from tensorflow.python.lib.io.tf_record) is deprecated and will be removed in a future version.\n",
            "Instructions for updating:\n",
            "Use eager execution and: \n",
            "`tf.data.TFRecordDataset(path)`\n",
            "WARNING:tensorflow:From /content/progressive_growing_of_gans/progressive_growing_of_gans/dataset.py:111: The name tf.placeholder is deprecated. Please use tf.compat.v1.placeholder instead.\n",
            "\n",
            "WARNING:tensorflow:From /content/progressive_growing_of_gans/progressive_growing_of_gans/tfutil.py:111: The name tf.get_default_graph is deprecated. Please use tf.compat.v1.get_default_graph instead.\n",
            "\n",
            "WARNING:tensorflow:From /content/progressive_growing_of_gans/progressive_growing_of_gans/tfutil.py:115: The name tf.assign is deprecated. Please use tf.compat.v1.assign instead.\n",
            "\n",
            "WARNING:tensorflow:Entity <function parse_tfrecord_tf at 0x7fe83e489730> could not be transformed and will be executed as-is. Please report this to the AutoGraph team. When filing the bug, set the verbosity to 10 (on Linux, `export AUTOGRAPH_VERBOSITY=10`) and attach the full output. Cause: module 'gast' has no attribute 'Num'\n",
            "WARNING:tensorflow:From /content/progressive_growing_of_gans/progressive_growing_of_gans/dataset.py:18: The name tf.parse_single_example is deprecated. Please use tf.io.parse_single_example instead.\n",
            "\n",
            "WARNING:tensorflow:From /content/progressive_growing_of_gans/progressive_growing_of_gans/dataset.py:19: The name tf.FixedLenFeature is deprecated. Please use tf.io.FixedLenFeature instead.\n",
            "\n",
            "WARNING:tensorflow:From /tensorflow-1.15.2/python3.6/tensorflow_core/python/data/util/random_seed.py:58: where (from tensorflow.python.ops.array_ops) is deprecated and will be removed in a future version.\n",
            "Instructions for updating:\n",
            "Use tf.where in 2.0, which has the same broadcast rule as np.where\n",
            "WARNING:tensorflow:From /content/progressive_growing_of_gans/progressive_growing_of_gans/dataset.py:131: The name tf.data.Iterator is deprecated. Please use tf.compat.v1.data.Iterator instead.\n",
            "\n",
            "WARNING:tensorflow:From /content/progressive_growing_of_gans/progressive_growing_of_gans/dataset.py:131: DatasetV1.output_types (from tensorflow.python.data.ops.dataset_ops) is deprecated and will be removed in a future version.\n",
            "Instructions for updating:\n",
            "Use `tf.compat.v1.data.get_output_types(dataset)`.\n",
            "WARNING:tensorflow:From /content/progressive_growing_of_gans/progressive_growing_of_gans/dataset.py:131: DatasetV1.output_shapes (from tensorflow.python.data.ops.dataset_ops) is deprecated and will be removed in a future version.\n",
            "Instructions for updating:\n",
            "Use `tf.compat.v1.data.get_output_shapes(dataset)`.\n",
            "WARNING:tensorflow:From /tensorflow-1.15.2/python3.6/tensorflow_core/python/data/ops/iterator_ops.py:347: Iterator.output_types (from tensorflow.python.data.ops.iterator_ops) is deprecated and will be removed in a future version.\n",
            "Instructions for updating:\n",
            "Use `tf.compat.v1.data.get_output_types(iterator)`.\n",
            "WARNING:tensorflow:From /tensorflow-1.15.2/python3.6/tensorflow_core/python/data/ops/iterator_ops.py:348: Iterator.output_shapes (from tensorflow.python.data.ops.iterator_ops) is deprecated and will be removed in a future version.\n",
            "Instructions for updating:\n",
            "Use `tf.compat.v1.data.get_output_shapes(iterator)`.\n",
            "WARNING:tensorflow:From /tensorflow-1.15.2/python3.6/tensorflow_core/python/data/ops/iterator_ops.py:350: Iterator.output_classes (from tensorflow.python.data.ops.iterator_ops) is deprecated and will be removed in a future version.\n",
            "Instructions for updating:\n",
            "Use `tf.compat.v1.data.get_output_classes(iterator)`.\n",
            "Dataset shape = [1, 32, 32]\n",
            "Dynamic range = [0, 255]\n",
            "Label size    = 0\n",
            "Constructing networks...\n",
            "WARNING:tensorflow:From /content/progressive_growing_of_gans/progressive_growing_of_gans/tfutil.py:471: The name tf.variable_scope is deprecated. Please use tf.compat.v1.variable_scope instead.\n",
            "\n",
            "WARNING:tensorflow:From /content/progressive_growing_of_gans/progressive_growing_of_gans/tfutil.py:471: The name tf.AUTO_REUSE is deprecated. Please use tf.compat.v1.AUTO_REUSE instead.\n",
            "\n",
            "WARNING:tensorflow:From /content/progressive_growing_of_gans/progressive_growing_of_gans/tfutil.py:472: The name tf.get_variable_scope is deprecated. Please use tf.compat.v1.get_variable_scope instead.\n",
            "\n",
            "WARNING:tensorflow:From /content/progressive_growing_of_gans/progressive_growing_of_gans/networks.py:176: The name tf.get_variable is deprecated. Please use tf.compat.v1.get_variable instead.\n",
            "\n",
            "WARNING:tensorflow:From /content/progressive_growing_of_gans/progressive_growing_of_gans/networks.py:122: The name tf.rsqrt is deprecated. Please use tf.math.rsqrt instead.\n",
            "\n",
            "WARNING:tensorflow:From /content/progressive_growing_of_gans/progressive_growing_of_gans/tfutil.py:490: The name tf.global_variables is deprecated. Please use tf.compat.v1.global_variables instead.\n",
            "\n",
            "WARNING:tensorflow:From /content/progressive_growing_of_gans/progressive_growing_of_gans/tfutil.py:491: The name tf.trainable_variables is deprecated. Please use tf.compat.v1.trainable_variables instead.\n",
            "\n",
            "WARNING:tensorflow:From /content/progressive_growing_of_gans/progressive_growing_of_gans/networks.py:103: The name tf.nn.avg_pool is deprecated. Please use tf.nn.avg_pool2d instead.\n",
            "\n",
            "\n",
            "G                           Params      OutputShape             WeightShape             \n",
            "---                         ---         ---                     ---                     \n",
            "latents_in                  -           (?, 512)                -                       \n",
            "labels_in                   -           (?, 0)                  -                       \n",
            "lod                         -           ()                      -                       \n",
            "4x4/PixelNorm               -           (?, 512)                -                       \n",
            "4x4/Dense                   4194816     (?, 512, 4, 4)          (512, 8192)             \n",
            "4x4/Conv                    2359808     (?, 512, 4, 4)          (3, 3, 512, 512)        \n",
            "ToRGB_lod3                  513         (?, 1, 4, 4)            (1, 1, 512, 1)          \n",
            "8x8/Conv0_up                2359808     (?, 512, 8, 8)          (3, 3, 512, 512)        \n",
            "8x8/Conv1                   2359808     (?, 512, 8, 8)          (3, 3, 512, 512)        \n",
            "ToRGB_lod2                  513         (?, 1, 8, 8)            (1, 1, 512, 1)          \n",
            "Upscale2D                   -           (?, 1, 8, 8)            -                       \n",
            "Grow_lod2                   -           (?, 1, 8, 8)            -                       \n",
            "16x16/Conv0_up              2359808     (?, 512, 16, 16)        (3, 3, 512, 512)        \n",
            "16x16/Conv1                 2359808     (?, 512, 16, 16)        (3, 3, 512, 512)        \n",
            "ToRGB_lod1                  513         (?, 1, 16, 16)          (1, 1, 512, 1)          \n",
            "Upscale2D_1                 -           (?, 1, 16, 16)          -                       \n",
            "Grow_lod1                   -           (?, 1, 16, 16)          -                       \n",
            "32x32/Conv0_up              2359808     (?, 512, 32, 32)        (3, 3, 512, 512)        \n",
            "32x32/Conv1                 2359808     (?, 512, 32, 32)        (3, 3, 512, 512)        \n",
            "ToRGB_lod0                  513         (?, 1, 32, 32)          (1, 1, 512, 1)          \n",
            "Upscale2D_2                 -           (?, 1, 32, 32)          -                       \n",
            "Grow_lod0                   -           (?, 1, 32, 32)          -                       \n",
            "images_out                  -           (?, 1, 32, 32)          -                       \n",
            "---                         ---         ---                     ---                     \n",
            "Total                       20715524                                                    \n",
            "\n",
            "\n",
            "D                           Params      OutputShape             WeightShape             \n",
            "---                         ---         ---                     ---                     \n",
            "images_in                   -           (?, 1, 32, 32)          -                       \n",
            "lod                         -           ()                      -                       \n",
            "FromRGB_lod0                1024        (?, 512, 32, 32)        (1, 1, 1, 512)          \n",
            "32x32/Conv0                 2359808     (?, 512, 32, 32)        (3, 3, 512, 512)        \n",
            "32x32/Conv1_down            2359808     (?, 512, 16, 16)        (3, 3, 512, 512)        \n",
            "Downscale2D                 -           (?, 1, 16, 16)          -                       \n",
            "FromRGB_lod1                1024        (?, 512, 16, 16)        (1, 1, 1, 512)          \n",
            "Grow_lod0                   -           (?, 512, 16, 16)        -                       \n",
            "16x16/Conv0                 2359808     (?, 512, 16, 16)        (3, 3, 512, 512)        \n",
            "16x16/Conv1_down            2359808     (?, 512, 8, 8)          (3, 3, 512, 512)        \n",
            "Downscale2D_1               -           (?, 1, 8, 8)            -                       \n",
            "FromRGB_lod2                1024        (?, 512, 8, 8)          (1, 1, 1, 512)          \n",
            "Grow_lod1                   -           (?, 512, 8, 8)          -                       \n",
            "8x8/Conv0                   2359808     (?, 512, 8, 8)          (3, 3, 512, 512)        \n",
            "8x8/Conv1_down              2359808     (?, 512, 4, 4)          (3, 3, 512, 512)        \n",
            "Downscale2D_2               -           (?, 1, 4, 4)            -                       \n",
            "FromRGB_lod3                1024        (?, 512, 4, 4)          (1, 1, 1, 512)          \n",
            "Grow_lod2                   -           (?, 512, 4, 4)          -                       \n",
            "4x4/MinibatchStddev         -           (?, 1, 4, 4)            -                       \n",
            "4x4/Conv                    2364416     (?, 512, 4, 4)          (3, 3, 513, 512)        \n",
            "4x4/Dense0                  4194816     (?, 512)                (8192, 512)             \n",
            "4x4/Dense1                  513         (?, 1)                  (512, 1)                \n",
            "scores_out                  -           (?, 1)                  -                       \n",
            "labels_out                  -           (?, 0)                  -                       \n",
            "---                         ---         ---                     ---                     \n",
            "Total                       20722689                                                    \n",
            "\n",
            "Building TensorFlow graph...\n",
            "WARNING:tensorflow:From /content/progressive_growing_of_gans/progressive_growing_of_gans/tfutil.py:227: The name tf.train.AdamOptimizer is deprecated. Please use tf.compat.v1.train.AdamOptimizer instead.\n",
            "\n",
            "WARNING:tensorflow:From /content/progressive_growing_of_gans/progressive_growing_of_gans/loss.py:28: The name tf.random_normal is deprecated. Please use tf.random.normal instead.\n",
            "\n",
            "WARNING:tensorflow:From /content/progressive_growing_of_gans/progressive_growing_of_gans/tfutil.py:185: The name tf.is_finite is deprecated. Please use tf.math.is_finite instead.\n",
            "\n",
            "WARNING:tensorflow:From /content/progressive_growing_of_gans/progressive_growing_of_gans/tfutil.py:188: The name tf.is_variable_initialized is deprecated. Please use tf.compat.v1.is_variable_initialized instead.\n",
            "\n",
            "WARNING:tensorflow:From /content/progressive_growing_of_gans/progressive_growing_of_gans/tfutil.py:188: The name tf.assign_add is deprecated. Please use tf.compat.v1.assign_add instead.\n",
            "\n",
            "WARNING:tensorflow:From /content/progressive_growing_of_gans/progressive_growing_of_gans/loss.py:58: The name tf.random_uniform is deprecated. Please use tf.random.uniform instead.\n",
            "\n",
            "WARNING:tensorflow:From /content/progressive_growing_of_gans/progressive_growing_of_gans/tfutil.py:299: The name tf.train.Optimizer is deprecated. Please use tf.compat.v1.train.Optimizer instead.\n",
            "\n",
            "Setting up snapshot image grid...\n",
            "Setting up result dir...\n",
            "Saving results to results/002-pgan-mnist-preset-v2-1gpu-preset-v3-1gpu-fp32\n",
            "WARNING:tensorflow:From /content/progressive_growing_of_gans/progressive_growing_of_gans/train.py:203: The name tf.summary.FileWriter is deprecated. Please use tf.compat.v1.summary.FileWriter instead.\n",
            "\n",
            "Training...\n",
            "tcmalloc: large alloc 6442459136 bytes == 0x7fe4457fc000 @  0x7fe890a13887 0x7fe85def8b84 0x7fe85defb79f 0x7fe85de7a963 0x7fe85def28df 0x7fe85ee91fc0 0x7fe85de72032 0x7fe85de7abd9 0x7fe85ee68373 0x7fe85ee68874 0x7fe857acc921 0x7fe88f2f36df 0x7fe8903d56db 0x7fe89070e88f\n",
            "tcmalloc: large alloc 6442459136 bytes == 0x7fe4457fc000 @  0x7fe890a13887 0x7fe85def8b84 0x7fe85defb79f 0x7fe85de7a963 0x7fe85def20ef 0x7fe857ad0dde 0x7fe85ee96855 0x7fe85ee7ce34 0x7fe85ee7d81c 0x7fe857ec22fe 0x7fe88f2f36df 0x7fe8903d56db 0x7fe89070e88f\n",
            "tcmalloc: large alloc 6442459136 bytes == 0x7fe4457fc000 @  0x7fe890a13887 0x7fe85def8b84 0x7fe85defb79f 0x7fe85de7a963 0x7fe85def20ef 0x7fe857ad0dde 0x7fe85ee96855 0x7fe85ee7ce34 0x7fe85ee7d81c 0x7fe857ec22fe 0x7fe88f2f36df 0x7fe8903d56db 0x7fe89070e88f\n",
            "tcmalloc: large alloc 6442459136 bytes == 0x7fe4457fc000 @  0x7fe890a13887 0x7fe85def8b84 0x7fe85defb79f 0x7fe85de7a963 0x7fe85def20ef 0x7fe857ad0dde 0x7fe85ee96855 0x7fe85ee7ce34 0x7fe85ee7d81c 0x7fe857ec22fe 0x7fe88f2f36df 0x7fe8903d56db 0x7fe89070e88f\n",
            "tcmalloc: large alloc 6442459136 bytes == 0x7fe4457fc000 @  0x7fe890a13887 0x7fe85def8b84 0x7fe85defb79f 0x7fe85de7a963 0x7fe85def20ef 0x7fe857ad0dde 0x7fe85ee96855 0x7fe85ee7ce34 0x7fe85ee7d81c 0x7fe857ec22fe 0x7fe88f2f36df 0x7fe8903d56db 0x7fe89070e88f\n",
            "tcmalloc: large alloc 6442459136 bytes == 0x7fe4457fc000 @  0x7fe890a13887 0x7fe85def8b84 0x7fe85defb79f 0x7fe85de7a963 0x7fe85def20ef 0x7fe857ad0dde 0x7fe85ee96855 0x7fe85ee7ce34 0x7fe85ee7d81c 0x7fe857ec22fe 0x7fe88f2f36df 0x7fe8903d56db 0x7fe89070e88f\n",
            "tcmalloc: large alloc 6442459136 bytes == 0x7fe4457fc000 @  0x7fe890a13887 0x7fe85def8b84 0x7fe85defb79f 0x7fe85de7a963 0x7fe85def20ef 0x7fe857ad0dde 0x7fe85ee96855 0x7fe85ee7ce34 0x7fe85ee7d81c 0x7fe857ec22fe 0x7fe88f2f36df 0x7fe8903d56db 0x7fe89070e88f\n",
            "tcmalloc: large alloc 6442459136 bytes == 0x7fe4457fc000 @  0x7fe890a13887 0x7fe85def8b84 0x7fe85defb79f 0x7fe85de7a963 0x7fe85def20ef 0x7fe857ad0dde 0x7fe85ee96855 0x7fe85ee7ce34 0x7fe85ee7d81c 0x7fe857ec22fe 0x7fe88f2f36df 0x7fe8903d56db 0x7fe89070e88f\n",
            "tcmalloc: large alloc 6442459136 bytes == 0x7fe4457fc000 @  0x7fe890a13887 0x7fe85def8b84 0x7fe85defb79f 0x7fe85de7a963 0x7fe85def20ef 0x7fe857ad0dde 0x7fe85ee96855 0x7fe85ee7ce34 0x7fe85ee7d81c 0x7fe857ec22fe 0x7fe88f2f36df 0x7fe8903d56db 0x7fe89070e88f\n",
            "tcmalloc: large alloc 6442459136 bytes == 0x7fe4457fc000 @  0x7fe890a13887 0x7fe85def8b84 0x7fe85defb79f 0x7fe85de7a963 0x7fe85def20ef 0x7fe857ad0dde 0x7fe85ee96855 0x7fe85ee7ce34 0x7fe85ee7d81c 0x7fe857ec22fe 0x7fe88f2f36df 0x7fe8903d56db 0x7fe89070e88f\n",
            "tcmalloc: large alloc 6442459136 bytes == 0x7fe4457fc000 @  0x7fe890a13887 0x7fe85def8b84 0x7fe85defb79f 0x7fe85de7a963 0x7fe85def20ef 0x7fe857ad0dde 0x7fe85ee96855 0x7fe85ee7ce34 0x7fe85ee7d81c 0x7fe857ec22fe 0x7fe88f2f36df 0x7fe8903d56db 0x7fe89070e88f\n",
            "tcmalloc: large alloc 6442459136 bytes == 0x7fe4457fc000 @  0x7fe890a13887 0x7fe85def8b84 0x7fe85defb79f 0x7fe85de7a963 0x7fe85def20ef 0x7fe857ad0dde 0x7fe85ee96855 0x7fe85ee7ce34 0x7fe85ee7d81c 0x7fe857ec22fe 0x7fe88f2f36df 0x7fe8903d56db 0x7fe89070e88f\n",
            "tcmalloc: large alloc 6442459136 bytes == 0x7fe4457fc000 @  0x7fe890a13887 0x7fe85def8b84 0x7fe85defb79f 0x7fe85de7a963 0x7fe85def20ef 0x7fe857ad0dde 0x7fe85ee96855 0x7fe85ee7ce34 0x7fe85ee7d81c 0x7fe857ec22fe 0x7fe88f2f36df 0x7fe8903d56db 0x7fe89070e88f\n",
            "tcmalloc: large alloc 6442459136 bytes == 0x7fe4457fc000 @  0x7fe890a13887 0x7fe85def8b84 0x7fe85defb79f 0x7fe85de7a963 0x7fe85def20ef 0x7fe857ad0dde 0x7fe85ee96855 0x7fe85ee7ce34 0x7fe85ee7d81c 0x7fe857ec22fe 0x7fe88f2f36df 0x7fe8903d56db 0x7fe89070e88f\n",
            "tcmalloc: large alloc 6442459136 bytes == 0x7fe4457fc000 @  0x7fe890a13887 0x7fe85def8b84 0x7fe85defb79f 0x7fe85de7a963 0x7fe85def20ef 0x7fe857ad0dde 0x7fe85ee96855 0x7fe85ee7ce34 0x7fe85ee7d81c 0x7fe857ec22fe 0x7fe88f2f36df 0x7fe8903d56db 0x7fe89070e88f\n",
            "tcmalloc: large alloc 6442459136 bytes == 0x7fe4457fc000 @  0x7fe890a13887 0x7fe85def8b84 0x7fe85defb79f 0x7fe85de7a963 0x7fe85def20ef 0x7fe857ad0dde 0x7fe85ee96855 0x7fe85ee7ce34 0x7fe85ee7d81c 0x7fe857ec22fe 0x7fe88f2f36df 0x7fe8903d56db 0x7fe89070e88f\n",
            "tick 1     kimg 160.0    lod 3.00  minibatch 32   time 7m 55s       sec/tick 474.7   sec/kimg 2.97    maintenance 38.6\n",
            "WARNING:tensorflow:From /content/progressive_growing_of_gans/progressive_growing_of_gans/tfutil.py:173: The name tf.summary.scalar is deprecated. Please use tf.compat.v1.summary.scalar instead.\n",
            "\n",
            "WARNING:tensorflow:From /content/progressive_growing_of_gans/progressive_growing_of_gans/tfutil.py:206: The name tf.summary.merge_all is deprecated. Please use tf.compat.v1.summary.merge_all instead.\n",
            "\n",
            "^C\n"
          ],
          "name": "stdout"
        }
      ]
    },
    {
      "cell_type": "code",
      "metadata": {
        "id": "DVWELaDRSQ3H",
        "colab_type": "code",
        "outputId": "5cca7091-f90e-44b5-f4b5-384cdb06f406",
        "colab": {
          "base_uri": "https://localhost:8080/",
          "height": 87
        }
      },
      "source": [
        "!ls results"
      ],
      "execution_count": 0,
      "outputs": [
        {
          "output_type": "stream",
          "text": [
            "000-pgan-mnist-preset-v2-1gpu-fp32\n",
            "001-pgan-mnist-preset-v2-1gpu-fp32\n",
            "002-pgan-mnist-preset-v2-1gpu-preset-v3-1gpu-fp32\n",
            "ls: cannot access 'results/002-pgan-mnist-preset-v2-1gpu-fp32': No such file or directory\n"
          ],
          "name": "stdout"
        }
      ]
    },
    {
      "cell_type": "code",
      "metadata": {
        "id": "xdCQCmLyTt3N",
        "colab_type": "code",
        "outputId": "18b77847-9836-47d9-92cd-b241969fd98b",
        "colab": {
          "base_uri": "https://localhost:8080/"
        }
      },
      "source": [
        "import glob\n",
        "import matplotlib.pyplot as plt\n",
        "import matplotlib.image as mpimg\n",
        "%matplotlib inline\n",
        "\n",
        "folder = \"results/000-pgan-mnist-preset-v2-1gpu-fp32/*\"\n",
        "\n",
        "images = []\n",
        "names = []\n",
        "files = glob.glob(folder)\n",
        "files.sort()\n",
        "image_filetypes = [\".png\"]\n",
        "\n",
        "for img_path in files:\n",
        "    allow = False\n",
        "    for t in image_filetypes:\n",
        "        if t == img_path[-4:]:\n",
        "            allow = True\n",
        "    if allow:\n",
        "        names.append(img_path.split(\"/\")[-1])\n",
        "        images.append(mpimg.imread(img_path))\n",
        "\n",
        "for i, image in enumerate(images):\n",
        "    print(names[i], \"=\", image.shape)\n",
        "\n",
        "plt.figure(figsize=(10,10))\n",
        "columns = 5\n",
        "for i, image in enumerate(images):\n",
        "    plt.subplot(len(images) / columns + 1, columns, i + 1)\n",
        "    \n",
        "    plt.imshow(image, cmap='gray')"
      ],
      "execution_count": 0,
      "outputs": [
        {
          "output_type": "display_data",
          "data": {
            "text/plain": [
              "<Figure size 720x720 with 0 Axes>"
            ]
          },
          "metadata": {
            "tags": []
          }
        }
      ]
    },
    {
      "cell_type": "code",
      "metadata": {
        "id": "y3FCf1LvVXuf",
        "colab_type": "code",
        "outputId": "bbdb1016-b385-4ff7-c471-5e6149295325",
        "colab": {
          "base_uri": "https://localhost:8080/",
          "height": 1000
        }
      },
      "source": [
        "from IPython.display import Image\n",
        "Image(\"results/000-pgan-mnist-preset-v2-1gpu-fp32/fakes000480.png\")#, width=100, height=100)"
      ],
      "execution_count": 0,
      "outputs": [
        {
          "output_type": "execute_result",
          "data": {
            "image/png": "[encoded data removed]",
            "text/plain": [
              "<IPython.core.display.Image object>"
            ]
          },
          "metadata": {
            "tags": []
          },
          "execution_count": 52
        }
      ]
    }
  ]
}